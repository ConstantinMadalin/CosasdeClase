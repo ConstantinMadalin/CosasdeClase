{
 "cells": [
  {
   "cell_type": "markdown",
   "metadata": {
    "id": "AOVhIYq2YwAg"
   },
   "source": [
    "<center>\n",
    "<h1 style=\"color: #007BC4;\">Python</h1> \n",
    "<h3 style=\"color: #333333;\">Ejercicios Estructuras de datos III</h3> \n",
    "</center>\n",
    "\n",
    "<br>\n"
   ]
  },
  {
   "cell_type": "markdown",
   "metadata": {},
   "source": [
    "#### Autor: escribir aquí el nombre del autor"
   ]
  },
  {
   "cell_type": "markdown",
   "metadata": {
    "id": "bcyLTkBIdvuj"
   },
   "source": [
    "### 1. Calcula el módulo de un vector de $n$ elementos, introducidos por teclado.\n",
    "\n",
    "Sea $\\vec{x}=(v_1,v_2, ..., v_n)$ entonces $ |\\vec{x}|=\\sqrt{v_1²+v_2²+ ... +v_n²} $\n",
    "\n"
   ]
  },
  {
   "cell_type": "code",
   "execution_count": 7,
   "metadata": {
    "colab": {
     "base_uri": "https://localhost:8080/"
    },
    "id": "400yNqbMgl6Q",
    "outputId": "f76c9547-fdd0-4d24-99a6-42c130be419f"
   },
   "outputs": [
    {
     "name": "stdout",
     "output_type": "stream",
     "text": [
      "Los números introducidos son: [2.0, 2.0]\n",
      "Su módulo es 2.8284271247461903\n"
     ]
    }
   ],
   "source": [
    "import math\n",
    "\n",
    "def calcular_modulo():\n",
    "    vector = []\n",
    "    \n",
    "    while True:\n",
    "        entrada = input(\"Introduce un número (ENTER para finalizar): \")\n",
    "        \n",
    "        if entrada == \"\":\n",
    "            break\n",
    "        \n",
    "        vector.append(float(entrada))\n",
    "    \n",
    "    modulo = math.sqrt(sum(v**2 for v in vector))\n",
    "    \n",
    "    print(f\"Los números introducidos son: {vector}\")\n",
    "    print(f\"Su módulo es {modulo}\")\n",
    "\n",
    "calcular_modulo()"
   ]
  },
  {
   "cell_type": "markdown",
   "metadata": {
    "id": "a_R5LVwDgmxz"
   },
   "source": [
    "### 2. Crea una función a la que le pasas una lista de caracteres (string) y devuelve si es un palíndromo o no"
   ]
  },
  {
   "cell_type": "code",
   "execution_count": null,
   "metadata": {
    "colab": {
     "base_uri": "https://localhost:8080/"
    },
    "id": "Y_sXGqPyg7Dq",
    "outputId": "e276397a-1304-4472-fd62-da72a93c5dfd"
   },
   "outputs": [
    {
     "name": "stdout",
     "output_type": "stream",
     "text": [
      "La palabra 'reconocer' es un palíndromo: True\n"
     ]
    }
   ],
   "source": [
    "def es_palindromo(palabra):\n",
    "  \n",
    "    palabra = palabra.replace(\" \", \"\").lower()\n",
    "    return palabra == palabra[::-1]\n",
    "\n",
    "palabra = input(\"Escribe una palabra para verificar si es un palíndromo: \")\n",
    "print(f\"La palabra '{palabra}' es un palíndromo: {es_palindromo(palabra)}\")\n"
   ]
  },
  {
   "cell_type": "markdown",
   "metadata": {
    "id": "wsa-auaig8mD"
   },
   "source": [
    "### 3. Crea una función que recibe una lista de números y devuelve dos listas (una tupla), una con los números pares y otra con los impares."
   ]
  },
  {
   "cell_type": "code",
   "execution_count": 20,
   "metadata": {
    "colab": {
     "base_uri": "https://localhost:8080/"
    },
    "id": "RIGcBEmFhM5F",
    "outputId": "97e37651-0b7c-4169-b401-2a83dc0fa8e7"
   },
   "outputs": [
    {
     "name": "stdout",
     "output_type": "stream",
     "text": [
      "Pares: [2, 4, 6, 8, 10]\n",
      "Impares: [1, 3, 5, 7, 9]\n"
     ]
    }
   ],
   "source": [
    "def separar_pares_impares(numeros):\n",
    "   \n",
    "    pares = [num for num in numeros if num % 2 == 0]\n",
    "    impares = [num for num in numeros if num % 2 != 0]\n",
    "    return pares, impares\n",
    "\n",
    "numeros = [1, 2, 3, 4, 5, 6, 7, 8, 9, 10]\n",
    "pares, impares = separar_pares_impares(numeros)\n",
    "print(\"Pares:\", pares)\n",
    "print(\"Impares:\", impares)"
   ]
  },
  {
   "cell_type": "markdown",
   "metadata": {
    "id": "PW_ZVoYchr10"
   },
   "source": [
    "### Elabora un código que rellene de forma aleatoria una lista de 10 elementos y luego la ordene.\n",
    "Existen multitud de fuentes en Internet con la solución en Python del algoritmo Bubble Sort, resiste la tentación y hazlo por ti mismo.\n",
    "\n"
   ]
  },
  {
   "cell_type": "code",
   "execution_count": null,
   "metadata": {
    "colab": {
     "base_uri": "https://localhost:8080/"
    },
    "id": "dlCbrsgmkY9j",
    "outputId": "66b076e2-87d8-4f17-eb69-266371ea677e"
   },
   "outputs": [
    {
     "name": "stdout",
     "output_type": "stream",
     "text": [
      "Lista original: [6, 10, 1, 5, 9, 1, 10, 5, 9, 2]\n",
      "Lista ordenada: [1, 1, 2, 5, 5, 6, 9, 9, 10, 10]\n"
     ]
    }
   ],
   "source": [
    "import random\n",
    "\n",
    "def bubble_sort(lista):\n",
    "    \n",
    "    n = len(lista)\n",
    "    for i in range(n):\n",
    "        for j in range(0, n-i-1):\n",
    "            if lista[j] > lista[j+1]:\n",
    "                lista[j], lista[j+1] = lista[j+1], lista[j]\n",
    "    return lista\n",
    "\n",
    "numeros = [random.randint(1, 10) for _ in range(10)]\n",
    "print(\"Lista original:\", numeros)\n",
    "\n",
    "numeros_ordenados = bubble_sort(numeros)\n",
    "print(\"Lista ordenada:\", numeros_ordenados)"
   ]
  },
  {
   "cell_type": "markdown",
   "metadata": {
    "id": "dwFqJi41khAT"
   },
   "source": [
    "### 4. Elabora dos funciones (codificar, decodificar) que reciban un texto y una clave y que encripten/desencripten el texto usando la clave.\n",
    "Usa el método del [cifrado de sustitución por desplazamiento](https://es.wikipedia.org/wiki/Cifrado_C%C3%A9sar). La clave es un número $n$, sólo codificas letras y las sustituyes desplazando la letra $n$ veces. Por ejemplo, si la clave es 1, entonces $a$ pasa a ser $b$.\n",
    "\n",
    "Hazlo sólo para letras inglesas (26).\n"
   ]
  },
  {
   "cell_type": "code",
   "execution_count": 27,
   "metadata": {
    "colab": {
     "base_uri": "https://localhost:8080/"
    },
    "id": "OnQqyIPIkyTF",
    "outputId": "d5208665-c0b4-4b22-df44-49641cd115f8"
   },
   "outputs": [
    {
     "name": "stdout",
     "output_type": "stream",
     "text": [
      "Texto codificado: Ifmmp Xpsme\n",
      "Texto decodificado: Hello World\n"
     ]
    }
   ],
   "source": [
    "def codificar(texto, clave):\n",
    "   \n",
    "    texto_codificado = \"\"\n",
    "    for char in texto:\n",
    "        if char.isalpha():\n",
    "            base = ord('A') if char.isupper() else ord('a')\n",
    "            texto_codificado += chr((ord(char) - base + clave) % 26 + base)\n",
    "        else:\n",
    "            texto_codificado += char\n",
    "    return texto_codificado\n",
    "\n",
    "def decodificar(texto, clave):\n",
    "   \n",
    "    return codificar(texto, -clave)\n",
    "\n",
    "texto_original = input(\"Ingresa el texto que deseas codificar: \")\n",
    "clave = int(input(\"Ingresa la clave (número de posiciones para desplazar): \"))\n",
    "\n",
    "texto_codificado = codificar(texto_original, clave)\n",
    "print(\"Texto codificado:\", texto_codificado)\n",
    "\n",
    "texto_decodificado = decodificar(texto_codificado, clave)\n",
    "print(\"Texto decodificado:\", texto_decodificado)"
   ]
  },
  {
   "cell_type": "markdown",
   "metadata": {},
   "source": [
    "### 5. Realizar un programa que permita generar un ticket de compra. \n",
    "Un ticket podrá incluir varios productos (frutas en este caso) con la información del peso y el precio (peso x precio_por_kg).\n",
    "\n",
    "<pre>\n",
    "El listado de precios (precio por kg) se creará de forma estática en el programa con un diccionario:\n",
    "\n",
    "    pera\t\t1.25\n",
    "    naranja\t\t1.70\n",
    "    manzana\t\t1.55\n",
    "    kiwi\t\t2.90\n",
    "    mandarina\t\t1.19\n",
    "    fresa\t\t3.75\n",
    "</pre>\n",
    "El ticket que generará la aplicación se almacenará en un diccionario. Cada entrada del diccionario contendrá los datos de un producto incluido en la compra, donde la clave será el nombre del producto (fruta). Ejemplo:\n",
    "<pre>\n",
    "    {\n",
    "    'naranja': {'peso': 1.5, 'precio': 2.55},\n",
    "    'pera': {'peso': 2.0, 'precio': 2.5}\n",
    "    }\n",
    "</pre>\n",
    "El programa pedirá al usuario iterativamente los productos que conformarán un ticket y sus datos (nombre_producto, peso), y se añadirá al ticket (calculado su precio en función del peso).\n",
    "\n",
    "Debe comprobarse que el producto seleccionado exista en la tabla de precios.\n",
    "\n",
    "Si el producto seleccionado fue ya añadido al ticket se indicará con un mensaje y no se modificará.\n",
    "\n",
    "Una vez se ha terminado de generar el ticket, se mostrará por pantalla. Ejemplo de ejecución:\n",
    "<pre>\n",
    "--- Precios\tpara\thoy ---\n",
    "pera\t\t1.25\n",
    "naranja\t\t1.70\n",
    "manzana\t\t1.55\n",
    "kiwi\t\t2.90\n",
    "mandarina\t\t1.19\n",
    "fresa\t\t3.75\n",
    "\n",
    "¿Producto?\n",
    "¿Peso? 1\t\n",
    "pera\t\n",
    "¿Más productos (si/no)? si\n",
    "¿Producto? naranja\n",
    "¿Peso? 3.5\n",
    "¿Más productos (si/no)? no\n",
    "\n",
    "\n",
    "--- Ticket ---\t\n",
    "pera\t1.00 kg\t1.25 euros\n",
    "naranja\t3.50 kg\t5.95 euros\n",
    "\n",
    "</pre>\n"
   ]
  },
  {
   "cell_type": "code",
   "execution_count": null,
   "metadata": {},
   "outputs": [
    {
     "name": "stdout",
     "output_type": "stream",
     "text": [
      "--- Precios para hoy ---\n",
      "pera\t1.25\n",
      "naranja\t1.70\n",
      "manzana\t1.55\n",
      "kiwi\t2.90\n",
      "mandarina\t1.19\n",
      "fresa\t3.75\n",
      "\n",
      "--- Ticket ---\n",
      "pera\t5.00 kg\t6.25 euros\n",
      "naranja\t6.00 kg\t10.20 euros\n",
      "manzana\t4.00 kg\t6.20 euros\n",
      "kiwi\t3.00 kg\t8.70 euros\n",
      "mandarina\t2.00 kg\t2.38 euros\n"
     ]
    }
   ],
   "source": [
    "def generar_ticket():\n",
    "    precios = {\n",
    "        'pera': 1.25,\n",
    "        'naranja': 1.70,\n",
    "        'manzana': 1.55,\n",
    "        'kiwi': 2.90,\n",
    "        'mandarina': 1.19,\n",
    "        'fresa': 3.75\n",
    "    }\n",
    "\n",
    "    ticket = {}\n",
    "\n",
    "    print(\"--- Precios para hoy ---\")\n",
    "    for fruta, precio in precios.items():\n",
    "        print(f\"{fruta}\\t{precio:.2f}\")\n",
    "\n",
    "    while True:\n",
    "        producto = input(\"\\n¿Producto? \").lower()\n",
    "\n",
    "        if producto not in precios:\n",
    "            print(\"Producto no válido. Por favor, selecciona un producto válido.\")\n",
    "            continue\n",
    "\n",
    "        if producto in ticket:\n",
    "            print(f\"El producto '{producto}' ya está en el ticket.\")\n",
    "            continue\n",
    "\n",
    "        try:\n",
    "            peso = float(input(\"¿Peso? \"))\n",
    "        except ValueError:\n",
    "            print(\"Por favor, ingresa un valor válido para el peso.\")\n",
    "            continue\n",
    "\n",
    "        precio_por_kg = precios[producto]\n",
    "        precio_total = precio_por_kg * peso\n",
    "\n",
    "        ticket[producto] = {'peso': peso, 'precio': precio_total}\n",
    "\n",
    "        mas_productos = input(\"¿Más productos (si/no)? \").lower()\n",
    "        if mas_productos != 'si':\n",
    "            break\n",
    "\n",
    "    print(\"\\n--- Ticket ---\")\n",
    "    for producto, datos in ticket.items():\n",
    "        print(f\"{producto}\\t{datos['peso']:.2f} kg\\t{datos['precio']:.2f} euros\")\n",
    "\n",
    "generar_ticket()\n"
   ]
  },
  {
   "cell_type": "markdown",
   "metadata": {
    "id": "kk6D97EInqEk"
   },
   "source": [
    "### 6. ¿Jugamos al póker?\n",
    "\n",
    "Reparte 5 cartas a cada jugador y analiza quien tiene la mano ganadora.\n",
    "\n",
    "**Escalera de color**: cinco cartas consecutivas del mismo palo.\n",
    "\n",
    "**Poker**: cuatro cartas iguales y una diferente (kicker).\n",
    "\n",
    "**Full house**: tres cartas del mismo valor y dos cartas de un valor distinto, pero coincidentes entre ellas.\n",
    "\n",
    "**Color**: cinco cartas del mismo palo.\n",
    "\n",
    "**Escalera**: cinco cartas consecutivas.\n",
    "\n",
    "**Trío**: tres cartas del mismo valor y dos de un valor diferente.\n",
    "\n",
    "**Doble pareja**: dos cartas del mismo valor, combinadas con otras dos cartas del mismo valor y una quinta diferente.\n",
    "\n",
    "**Pareja**: dos cartas del mismo valor y tres de valores diferentes.\n",
    "\n",
    "**Carta alta**: cualquier mano que no pertenece a ninguna de las categorías anteriores.\n"
   ]
  },
  {
   "cell_type": "code",
   "execution_count": 37,
   "metadata": {
    "colab": {
     "base_uri": "https://localhost:8080/"
    },
    "id": "OJbBKpWqnuxi",
    "outputId": "110ca3d8-de7d-43ff-a390-db2aebc5cbde"
   },
   "outputs": [
    {
     "name": "stdout",
     "output_type": "stream",
     "text": [
      "Alice tiene [('♣', 'K'), ('♡', '4'), ('♢', '7'), ('♡', '9'), ('♣', '3')]\n",
      "Bob tiene [('♠', '2'), ('♢', 'K'), ('♡', 'A'), ('♣', '8'), ('♢', '9')]\n",
      "Carol tiene [('♢', '4'), ('♢', 'A'), ('♡', 'K'), ('♣', 'A'), ('♣', '6')]\n",
      "David tiene [('♢', '2'), ('♠', '6'), ('♣', '4'), ('♠', '7'), ('♢', '8')]\n",
      "\n",
      "El ganador de la partida es: Bob\n"
     ]
    }
   ],
   "source": [
    "import random;\n",
    "\n",
    "PALOS = '♠ ♡ ♢ ♣'.split(' ');\n",
    "RANGO = '2 3 4 5 6 7 8 9 10 J Q K A'.split(' ');\n",
    "JUGADORES = 'Alice Bob Carol David'.split(' ');\n",
    "\n",
    "mazo = [(p, r) for r in RANGO for p in PALOS];\n",
    "\n",
    "mano={};\n",
    "\n",
    "valor_carta = {rango: i for i, rango in enumerate(RANGO)}\n",
    "\n",
    "random.shuffle(mazo);\n",
    "\n",
    "for j in JUGADORES:\n",
    "    mano[j]=mazo[:5];\n",
    "    mazo=mazo[5:];\n",
    "    print(\"{} tiene {}\".format(j,mano[j]));\n",
    "\n",
    "def obtener_valor_maximo(mano):\n",
    "    return max([valor_carta[card[1]] for card in mano])\n",
    "\n",
    "puntajes = {jugador: obtener_valor_maximo(mano[jugador]) for jugador in JUGADORES}\n",
    "\n",
    "ganador = max(puntajes, key=puntajes.get)\n",
    "\n",
    "print(f\"\\nEl ganador de la partida es: {ganador}\")\n",
    "\n",
    "# TODO ¿qué mano gana? para investigar...\n"
   ]
  },
  {
   "cell_type": "code",
   "execution_count": null,
   "metadata": {
    "id": "gnVfCTzPn134"
   },
   "outputs": [],
   "source": []
  }
 ],
 "metadata": {
  "colab": {
   "collapsed_sections": [],
   "provenance": []
  },
  "kernelspec": {
   "display_name": "Python 3",
   "name": "python3"
  },
  "language_info": {
   "codemirror_mode": {
    "name": "ipython",
    "version": 3
   },
   "file_extension": ".py",
   "mimetype": "text/x-python",
   "name": "python",
   "nbconvert_exporter": "python",
   "pygments_lexer": "ipython3",
   "version": "3.13.0"
  }
 },
 "nbformat": 4,
 "nbformat_minor": 0
}

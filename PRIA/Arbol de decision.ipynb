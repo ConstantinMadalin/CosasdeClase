{
 "cells": [
  {
   "cell_type": "code",
   "execution_count": 2,
   "metadata": {},
   "outputs": [
    {
     "name": "stdout",
     "output_type": "stream",
     "text": [
      "Por favor, responde con 'Sí' o 'No'.\n",
      "Por favor, responde con 'Sí' o 'No'.\n",
      "Por favor, responde con 'Sí' o 'No'.\n",
      "Por favor, responde con 'Sí' o 'No'.\n",
      "Por favor, responde con 'Sí' o 'No'.\n",
      "Por favor, responde con 'Sí' o 'No'.\n",
      "La planta es: (No clasificado)\n"
     ]
    }
   ],
   "source": [
    "import json\n",
    "\n",
    "class Nodo:\n",
    "    def __init__(self, pregunta, si=None, no=None):\n",
    "        self.pregunta = pregunta\n",
    "        self.si = si  \n",
    "        self.no = no  \n",
    "\n",
    "    def es_hoja(self):\n",
    "        return isinstance(self.si, str) or isinstance(self.no, str)\n",
    "\n",
    "def construir_arbol(diccionario):\n",
    "    if isinstance(diccionario, str):\n",
    "        return diccionario  # Nodo hoja (nombre de la planta)\n",
    "    \n",
    "    return Nodo(\n",
    "        pregunta=diccionario[\"pregunta\"],\n",
    "        si=construir_arbol(diccionario[\"si\"]) if \"si\" in diccionario else None,\n",
    "        no=construir_arbol(diccionario[\"no\"]) if \"no\" in diccionario else None\n",
    "    )\n",
    "\n",
    "def identificar(nodo):\n",
    "    while True:\n",
    "        if isinstance(nodo, str):  # Si el nodo es una hoja, terminamos aquí\n",
    "            print(f\"La planta es: {nodo}\")\n",
    "            return\n",
    "\n",
    "        respuesta = input(f\"{nodo.pregunta} (Sí/No): \").strip().lower()\n",
    "\n",
    "        if respuesta == \"sí\":\n",
    "            if nodo.si is None:\n",
    "                print(\"No hay más información para esta respuesta.\")\n",
    "                return\n",
    "            nodo = nodo.si  # Avanzamos en el árbol\n",
    "        elif respuesta == \"no\":\n",
    "            if nodo.no is None:\n",
    "                print(\"No hay más información para esta respuesta.\")\n",
    "                return\n",
    "            nodo = nodo.no\n",
    "        else:\n",
    "            print(\"Por favor, responde con 'Sí' o 'No'.\")\n",
    "\n",
    "#Cargar el árbol desde un archivo JSON\n",
    "with open(\"Arbol.json\", \"r\", encoding=\"utf-8\") as archivo:\n",
    "    datos_arbol = json.load(archivo)\n",
    "\n",
    "#Convertir el JSON en nodos\n",
    "arbol = construir_arbol(datos_arbol)\n",
    "\n",
    "#Iniciar el árbol de decisión\n",
    "identificar(arbol)"
   ]
  }
 ],
 "metadata": {
  "kernelspec": {
   "display_name": "programacion",
   "language": "python",
   "name": "python3"
  },
  "language_info": {
   "codemirror_mode": {
    "name": "ipython",
    "version": 3
   },
   "file_extension": ".py",
   "mimetype": "text/x-python",
   "name": "python",
   "nbconvert_exporter": "python",
   "pygments_lexer": "ipython3",
   "version": "3.13.1"
  }
 },
 "nbformat": 4,
 "nbformat_minor": 2
}

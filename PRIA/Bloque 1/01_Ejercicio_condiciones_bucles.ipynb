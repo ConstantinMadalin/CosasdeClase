{
 "cells": [
  {
   "cell_type": "markdown",
   "metadata": {},
   "source": [
    "<center>\n",
    "<h1 style=\"color: #007BC4;\">Python</h1> \n",
    "<h3 style=\"color: #333333;\">Ejercicios condiciones y bucles </h3> \n",
    "</center>\n",
    "\n",
    "<br>\n"
   ]
  },
  {
   "cell_type": "markdown",
   "metadata": {},
   "source": [
    "- #### Autor: escribir aquí el nombre del autor\n"
   ]
  },
  {
   "cell_type": "markdown",
   "metadata": {},
   "source": [
    "<h2 style=\"color: #007BC4; border-bottom: 0.5px dashed #007BC4; padding-bottom: 5px;\">Ejercicio 1</h2>\n",
    "\n",
    "Los tramos impositivos para la declaración de la renta en un determinado país son los siguientes:\n",
    "\n",
    "|         Renta          | Tipo impositivo |\n",
    "| :--------------------: | :-------------: |\n",
    "|    Menos de 10000€     |       5%        |\n",
    "| Entre 10000€ y 20000€  |       15%       |\n",
    "| Entre 200000€ y 35000€ |       20%       |\n",
    "| Entre 350000€ y 60000€ |       30%       |\n",
    "|     Más de 60000€      |       45%       |\n",
    "\n",
    "Escribir un programa que pregunte al usuario su renta anual y muestre por pantalla el tipo impositivo que le corresponde. \n",
    "\n",
    "\n",
    "#### Ejemplos de ejecución:\n",
    "\n",
    "<pre>\n",
    "¿Cuál es tu renta anual? 0\n",
    "Error, la renta ha de ser mayor que 0.\n",
    "\n",
    "--------------------------------------------------------------\n",
    "\n",
    "¿Cuál es tu renta anual? 40000\n",
    "Tu tipo impositivo es 30%\n",
    "</pre>"
   ]
  },
  {
   "cell_type": "code",
   "execution_count": null,
   "metadata": {},
   "outputs": [],
   "source": [
    "#Escribe aquí el código de tu solución\n",
    "\n",
    "renta = float(input(\"¿Cuál es tu renta anual? \"))\n",
    "\n",
    "if renta <= 0:\n",
    "    print(\"Error, la renta ha de ser mayor que 0.\")\n",
    "else:\n",
    "    if renta < 10000:\n",
    "        tipo_impositivo = 5\n",
    "    elif renta < 20000:\n",
    "        tipo_impositivo = 15\n",
    "    elif renta < 35000:\n",
    "        tipo_impositivo = 20\n",
    "    elif renta < 60000:\n",
    "        tipo_impositivo = 30\n",
    "    else:\n",
    "        tipo_impositivo = 45\n",
    "    \n",
    "    print(f\"Tu tipo impositivo es {tipo_impositivo}%\")\n",
    "\n"
   ]
  },
  {
   "cell_type": "markdown",
   "metadata": {},
   "source": [
    "<h2 style=\"color: #007BC4; border-bottom: 0.5px dashed #007BC4; padding-bottom: 5px;\">Ejercicio 2</h2>\n",
    "\n",
    "Escribir un programa que pida al usuario un número entero positivo y muestre por pantalla la cuenta atrás desde ese número hasta cero separados por comas.\n",
    "\n",
    "#### Ejemplo de ejecución:\n",
    "<pre>\n",
    "Introduce un número entero positivo: 20\n",
    "20, 19, 18, 17, 16, 15, 14, 13, 12, 11, 10, 9, 8, 7, 6, 5, 4, 3, 2, 1, 0\n",
    "</pre>"
   ]
  },
  {
   "cell_type": "code",
   "execution_count": null,
   "metadata": {},
   "outputs": [],
   "source": [
    "#Escribe aquí el código de tu solución\n",
    "\n",
    "numero = int(input(\"Introduce un número entero positivo: \"))\n",
    "\n",
    "if numero > 0:\n",
    "    print(\", \".join(map(str, range(numero, -1, -1))))\n",
    "else:\n",
    "    print(\"Por favor, introduce un número entero positivo.\")\n",
    "\n"
   ]
  },
  {
   "cell_type": "markdown",
   "metadata": {},
   "source": [
    "<h2 style=\"color: #007BC4; border-bottom: 0.5px dashed #007BC4; padding-bottom: 5px;\">Ejercicio 3</h2>\n",
    "\n",
    "Desarrollar un programa en Python que dibuje en pantalla una figura tipo sierra haciendo uso del carácter #.\n",
    "Para ello, se preguntará al usuario:\n",
    "- El ancho de la figura (valor entre 2 y 10). \n",
    "- El número de dientes de sierra que tendrá la figura (valor entre 2 y 10)\n",
    "\n",
    "#### Ejemplo de ejecución:\n",
    "<pre>\n",
    "Introduce la longitud del diente de sierra (2<=n<=10): 5\n",
    "Introduce el número de dientes de la figura (1<=n<=10): 2\n",
    "#\n",
    "##\n",
    "###\n",
    "####\n",
    "#####\n",
    "####\n",
    "###\n",
    "##\n",
    "#\n",
    "#\n",
    "##\n",
    "###\n",
    "####\n",
    "#####\n",
    "####\n",
    "###\n",
    "##\n",
    "#\n",
    "</pre>"
   ]
  },
  {
   "cell_type": "code",
   "execution_count": null,
   "metadata": {},
   "outputs": [
    {
     "name": "stdout",
     "output_type": "stream",
     "text": [
      "#\n",
      "##\n",
      "###\n",
      "####\n",
      "#####\n",
      "######\n",
      "#######\n",
      "########\n",
      "#########\n",
      "##########\n",
      "#########\n",
      "########\n",
      "#######\n",
      "######\n",
      "#####\n",
      "####\n",
      "###\n",
      "##\n",
      "#\n"
     ]
    }
   ],
   "source": [
    "# Escribe aquí el código de tu solución\n",
    "\n",
    "ancho = int(input(\"Introduce el ancho de la figura (entre 2 y 10): \"))\n",
    "while ancho < 2 or ancho > 10:\n",
    "    ancho = int(input(\"Por favor, introduce un valor válido para el ancho (entre 2 y 10): \"))\n",
    "\n",
    "dientes = int(input(\"Introduce el número de dientes de sierra (entre 2 y 10): \"))\n",
    "while dientes < 2 or dientes > 10:\n",
    "    dientes = int(input(\"Por favor, introduce un valor válido para el número de dientes de sierra (entre 2 y 10): \"))\n",
    "\n",
    "for i in range(1, dientes + 1):  \n",
    "    print(\"#\" * i)\n",
    "\n",
    "for i in range(dientes - 1, 0, -1):  \n",
    "    print(\"#\" * i)\n",
    "\n",
    "\n",
    "\n",
    "\n",
    "\n",
    "\n"
   ]
  },
  {
   "cell_type": "markdown",
   "metadata": {},
   "source": [
    "<h2 style=\"color: #007BC4; border-bottom: 0.5px dashed #007BC4; padding-bottom: 5px;\">Ejercicio 4</h2>\n",
    "\n",
    "Realizar un programa en Python que:\n",
    "- Pida un número entero, **k**, (mayor que cero) por teclado. \n",
    "- El programa deberá mostrar por pantalla los **k** primeros números primos.\n",
    "\n",
    "#### Ejemplos de ejecución:\n",
    "<pre>\n",
    "Introduce un número K mayor que 0: 0\n",
    "Error. K debe ser mayor que 0\n",
    "Introduce un número K mayor que 0: -2\n",
    "Error. K deber ser mayor que 0\n",
    "Introduce un número K mayor 0: 9\n",
    "Los 9 primeros números primos son:\n",
    "1 2 3 5 7 11 13 17 19\n",
    "\n",
    "----------------------------------------\n",
    "\n",
    "Introduce un numero K mayor que 0: 15\n",
    "Los 15 primeros números primos son:\n",
    "1 2 3 5 7 11 13 17 19 23 29 31 37 41 43\n",
    "</pre>"
   ]
  },
  {
   "cell_type": "code",
   "execution_count": null,
   "metadata": {},
   "outputs": [],
   "source": [
    "# Escribe aquí el código de tu solución\n",
    "\n",
    "\n",
    "def es_primo(n):\n",
    "    if n < 2:\n",
    "        return False\n",
    "    for i in range(2, n):\n",
    "        if n % i == 0:\n",
    "            return False\n",
    "    return True\n",
    "\n",
    "k = int(input(\"Introduce un número entero mayor que cero: \"))\n",
    "\n",
    "numero = 2\n",
    "for _ in range(k):\n",
    "    while not es_primo(numero):\n",
    "        numero += 1\n",
    "    print(numero, end=\" \")\n",
    "    numero += 1\n"
   ]
  }
 ],
 "metadata": {
  "kernelspec": {
   "display_name": ".venv",
   "language": "python",
   "name": "python3"
  },
  "language_info": {
   "codemirror_mode": {
    "name": "ipython",
    "version": 3
   },
   "file_extension": ".py",
   "mimetype": "text/x-python",
   "name": "python",
   "nbconvert_exporter": "python",
   "pygments_lexer": "ipython3",
   "version": "3.13.0"
  }
 },
 "nbformat": 4,
 "nbformat_minor": 4
}

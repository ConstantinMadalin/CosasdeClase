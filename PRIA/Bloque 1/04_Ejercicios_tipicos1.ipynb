{
 "cells": [
  {
   "cell_type": "markdown",
   "metadata": {
    "id": "eXdEhpJXZiSu"
   },
   "source": [
    "# **Ejercicios típicos**\n",
    "\n"
   ]
  },
  {
   "cell_type": "markdown",
   "metadata": {},
   "source": [
    "- #### Autor: escribir aquí el nombre del autor"
   ]
  },
  {
   "cell_type": "code",
   "execution_count": null,
   "metadata": {
    "id": "lNE9jCIrJZQE"
   },
   "outputs": [],
   "source": [
    "# usa esta celda si queres hacer funciones que uses en el resto del documento\n"
   ]
  },
  {
   "cell_type": "markdown",
   "metadata": {
    "id": "x4kL3smkZm2p"
   },
   "source": [
    "### 1º Introducir por teclado un número y determinar si es positivo, negativo o cero. Imprimir por pantalla el número y el resultado.\n",
    "NOTA: no conviertas el texto a número."
   ]
  },
  {
   "cell_type": "code",
   "execution_count": 2,
   "metadata": {
    "id": "CsZDoWpAagbO"
   },
   "outputs": [
    {
     "name": "stdout",
     "output_type": "stream",
     "text": [
      "El número es -9 y es negativo.\n"
     ]
    }
   ],
   "source": [
    "\n",
    "numero = input(\"Introduce un número: \")\n",
    "\n",
    "if numero == \"0\":\n",
    "    print(f\"El número es {numero} y es cero.\")\n",
    "elif numero.startswith('-'):\n",
    "    print(f\"El número es {numero} y es negativo.\")\n",
    "else:\n",
    "    print(f\"El número es {numero} y es positivo.\")\n"
   ]
  },
  {
   "cell_type": "markdown",
   "metadata": {
    "id": "LiDloPhMaGnP"
   },
   "source": [
    "### 2º Introducir por teclado un string y devolver por consola si es mayor, igual o menor a 10 caracteres."
   ]
  },
  {
   "cell_type": "code",
   "execution_count": 3,
   "metadata": {
    "id": "qiQBt-I9aEC9"
   },
   "outputs": [
    {
     "name": "stdout",
     "output_type": "stream",
     "text": [
      "El string es menor a 10 caracteres.\n"
     ]
    }
   ],
   "source": [
    "texto = input(\"Introduce un string: \")\n",
    "\n",
    "if len(texto) > 10:\n",
    "    print(\"El string es mayor a 10 caracteres.\")\n",
    "elif len(texto) == 10:\n",
    "    print(\"El string tiene exactamente 10 caracteres.\")\n",
    "else:\n",
    "    print(\"El string es menor a 10 caracteres.\")\n",
    "\n"
   ]
  },
  {
   "cell_type": "markdown",
   "metadata": {
    "id": "ogCiPH_dai2q"
   },
   "source": [
    "### 3º Resolver el problema anterior con el [operador ternario](https://stackoverflow.com/questions/394809/does-python-have-a-ternary-conditional-operator)\n",
    "NOTA: *condition_if_true* **if** *condition* **else** *condition_if_false*\n"
   ]
  },
  {
   "cell_type": "code",
   "execution_count": 4,
   "metadata": {
    "id": "_jZURwS2awkp"
   },
   "outputs": [
    {
     "name": "stdout",
     "output_type": "stream",
     "text": [
      "El string es menor a 10 caracteres.\n"
     ]
    }
   ],
   "source": [
    "\n",
    "texto = input(\"Introduce un string: \")\n",
    "\n",
    "print(\"El string es mayor a 10 caracteres.\" if len(texto) > 10 else \"El string tiene exactamente 10 caracteres.\" if len(texto) == 10 else \"El string es menor a 10 caracteres.\")\n"
   ]
  },
  {
   "cell_type": "markdown",
   "metadata": {
    "id": "6GqZFiFsaxcB"
   },
   "source": [
    "### 4º Introducir por teclado dos número enteros, devolver por consola si el primer número es mayor, igual o menor al segundo número.\n",
    "NOTA: no los conviertas a números"
   ]
  },
  {
   "cell_type": "code",
   "execution_count": 5,
   "metadata": {
    "id": "W6O-8fSSbIj-"
   },
   "outputs": [
    {
     "name": "stdout",
     "output_type": "stream",
     "text": [
      "El primer número es menor al segundo.\n"
     ]
    }
   ],
   "source": [
    "\n",
    "numero1 = input(\"Introduce el primer número: \")\n",
    "numero2 = input(\"Introduce el segundo número: \")\n",
    "\n",
    "resultado = \"es mayor\" if numero1 > numero2 else \"es igual\" if numero1 == numero2 else \"es menor\"\n",
    "\n",
    "print(f\"El primer número {resultado} al segundo.\")\n"
   ]
  },
  {
   "cell_type": "markdown",
   "metadata": {
    "id": "YhACl7cbbJMX"
   },
   "source": [
    "### 5º Introducir por teclado dos número enteros positivos. Comprobar que el número menor es distinto de cero, si es cero no efectuar la división y visualizarlo por consola. Si la división es posible indicar cual es el numerador, el denominador, el cociente y el resto."
   ]
  },
  {
   "cell_type": "code",
   "execution_count": 6,
   "metadata": {
    "id": "0Rd-DmNHbqqI"
   },
   "outputs": [
    {
     "name": "stdout",
     "output_type": "stream",
     "text": [
      "Numerador: 14\n",
      "Denominador: 10\n",
      "Cociente: 1\n",
      "Resto: 4\n"
     ]
    }
   ],
   "source": [
    "numero1 = int(input(\"Introduce el primer número positivo: \"))\n",
    "numero2 = int(input(\"Introduce el segundo número positivo: \"))\n",
    "\n",
    "if numero1 == 0 or numero2 == 0:\n",
    "    print(\"El número menor es cero, no se puede realizar la división.\")\n",
    "else:\n",
    "    numerador = max(numero1, numero2)\n",
    "    denominador = min(numero1, numero2)\n",
    "\n",
    "    cociente = numerador // denominador\n",
    "    resto = numerador % denominador\n",
    "\n",
    "    print(f\"Numerador: {numerador}\")\n",
    "    print(f\"Denominador: {denominador}\")\n",
    "    print(f\"Cociente: {cociente}\")\n",
    "    print(f\"Resto: {resto}\")\n",
    "\n"
   ]
  },
  {
   "cell_type": "markdown",
   "metadata": {
    "id": "3JLz4Y2lcCCw"
   },
   "source": [
    "### 6º Introducir por teclado dos números enteros positivos. Comprueba si el mayor es múltiplo del menor. Visualiza en la consola el resultado."
   ]
  },
  {
   "cell_type": "code",
   "execution_count": 7,
   "metadata": {
    "id": "FUfpZZSzbMrc"
   },
   "outputs": [
    {
     "name": "stdout",
     "output_type": "stream",
     "text": [
      "El número 6 es múltiplo de 3.\n"
     ]
    }
   ],
   "source": [
    "\n",
    "numero1 = int(input(\"Introduce el primer número positivo: \"))\n",
    "numero2 = int(input(\"Introduce el segundo número positivo: \"))\n",
    "\n",
    "mayor, menor = max(numero1, numero2), min(numero1, numero2)\n",
    "\n",
    "if mayor % menor == 0:\n",
    "    print(f\"El número {mayor} es múltiplo de {menor}.\")\n",
    "else:\n",
    "    print(f\"El número {mayor} no es múltiplo de {menor}.\")\n"
   ]
  },
  {
   "cell_type": "markdown",
   "metadata": {
    "id": "GEvMj2KzbN6s"
   },
   "source": [
    "### 7º Solicitar un número entero por teclado y muestre por consola si es par o impar."
   ]
  },
  {
   "cell_type": "code",
   "execution_count": 8,
   "metadata": {
    "id": "CqKcSNG3bZDU"
   },
   "outputs": [
    {
     "name": "stdout",
     "output_type": "stream",
     "text": [
      "El número 5 es impar.\n"
     ]
    }
   ],
   "source": [
    "\n",
    "numero = int(input(\"Introduce un número entero: \"))\n",
    "\n",
    "if numero % 2 == 0:\n",
    "    print(f\"El número {numero} es par.\")\n",
    "else:\n",
    "    print(f\"El número {numero} es impar.\")\n"
   ]
  },
  {
   "cell_type": "markdown",
   "metadata": {
    "id": "UhiYkKnabtpd"
   },
   "source": [
    "### 8º Solicitar el año actual y un año cualquiera por teclado y visualizar cuántos años han pasado desde ese año o cuántos años faltan para llegar a ese año."
   ]
  },
  {
   "cell_type": "code",
   "execution_count": 9,
   "metadata": {
    "id": "TjylUkAqb63q"
   },
   "outputs": [
    {
     "name": "stdout",
     "output_type": "stream",
     "text": [
      "Hace 24 años que pasó el año 2000.\n"
     ]
    }
   ],
   "source": [
    "\n",
    "anio_actual = int(input(\"Introduce el año actual: \"))\n",
    "anio_cualquiera = int(input(\"Introduce un año cualquiera: \"))\n",
    "\n",
    "diferencia = anio_cualquiera - anio_actual\n",
    "\n",
    "if diferencia > 0:\n",
    "    print(f\"Faltan {diferencia} años para llegar al año {anio_cualquiera}.\")\n",
    "elif diferencia < 0:\n",
    "    print(f\"Hace {-diferencia} años que pasó el año {anio_cualquiera}.\")\n",
    "else:\n",
    "    print(f\"Estamos en el año {anio_cualquiera}.\")\n"
   ]
  },
  {
   "cell_type": "markdown",
   "metadata": {
    "id": "-gNYMWf6b_Wr"
   },
   "source": [
    "### 9º Introducir por teclado un año, visualizar por consola si es bisiesto o no.\n",
    "\n",
    "NOTA: Se recuerda que los años bisiestos son múltiplos de 4, pero los múltiplos de 100 no lo son, aunque los múltiplos de 400 sí."
   ]
  },
  {
   "cell_type": "code",
   "execution_count": 10,
   "metadata": {
    "id": "uPFkRsnFcnSa"
   },
   "outputs": [
    {
     "name": "stdout",
     "output_type": "stream",
     "text": [
      "El año 2024 es bisiesto.\n"
     ]
    }
   ],
   "source": [
    "anio = int(input(\"Introduce un año: \"))\n",
    "\n",
    "if (anio % 4 == 0 and anio % 100 != 0) or (anio % 400 == 0):\n",
    "    print(f\"El año {anio} es bisiesto.\")\n",
    "else:\n",
    "    print(f\"El año {anio} no es bisiesto.\")\n",
    "\n"
   ]
  },
  {
   "cell_type": "markdown",
   "metadata": {
    "id": "VO58q-uNc3tS"
   },
   "source": [
    "### 10º Escriba un programa que pida los coeficientes de una ecuación de segundo grado (a·x² + b·x + c = 0) y escriba la solución.\n",
    "\n",
    "Haz una función a la que le pasas $a$, $b$, $c$ y devuelve la/las soluciones.\n",
    "\n",
    "Recuerda que una ecuación de segundo grado puede no tener solución en $\\mathbb{R}$ (pero sí en $\\mathbb{C}$), tener una solución única, tener dos soluciones. Se recuerda que la fórmula de las soluciones es:\n",
    "\n",
    "$\\frac{-b\\pm \\sqrt{b^{2}-4ac}}{2a}$\n",
    "\n"
   ]
  },
  {
   "cell_type": "code",
   "execution_count": 11,
   "metadata": {
    "id": "9S6s-13UfLoq"
   },
   "outputs": [
    {
     "name": "stdout",
     "output_type": "stream",
     "text": [
      "Las soluciones son: (-0.75+0.82915619758885j) y (-0.75-0.82915619758885j)\n"
     ]
    }
   ],
   "source": [
    "\n",
    "import cmath  \n",
    "\n",
    "def soluciones_ecuacion_segundo_grado(a, b, c):\n",
    "    discriminante = b**2 - 4*a*c\n",
    "    x1 = (-b + cmath.sqrt(discriminante)) / (2 * a)\n",
    "    x2 = (-b - cmath.sqrt(discriminante)) / (2 * a)\n",
    "    return x1, x2\n",
    "\n",
    "a = float(input(\"Introduce el coeficiente a: \"))\n",
    "b = float(input(\"Introduce el coeficiente b: \"))\n",
    "c = float(input(\"Introduce el coeficiente c: \"))\n",
    "\n",
    "if a == 0:\n",
    "    print(\"El coeficiente 'a' no puede ser 0 en una ecuación de segundo grado.\")\n",
    "else:\n",
    "    x1, x2 = soluciones_ecuacion_segundo_grado(a, b, c)\n",
    "    \n",
    "    print(f\"Las soluciones son: {x1} y {x2}\")\n"
   ]
  }
 ],
 "metadata": {
  "colab": {
   "collapsed_sections": [],
   "private_outputs": true,
   "provenance": []
  },
  "kernelspec": {
   "display_name": ".venv",
   "language": "python",
   "name": "python3"
  },
  "language_info": {
   "codemirror_mode": {
    "name": "ipython",
    "version": 3
   },
   "file_extension": ".py",
   "mimetype": "text/x-python",
   "name": "python",
   "nbconvert_exporter": "python",
   "pygments_lexer": "ipython3",
   "version": "3.13.0"
  }
 },
 "nbformat": 4,
 "nbformat_minor": 0
}

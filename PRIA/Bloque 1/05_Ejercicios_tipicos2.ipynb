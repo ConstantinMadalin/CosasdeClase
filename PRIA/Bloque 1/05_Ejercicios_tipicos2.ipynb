{
 "cells": [
  {
   "cell_type": "markdown",
   "metadata": {
    "id": "gYDalNAzLpAC"
   },
   "source": [
    "# **Ejercicios típicos 2**\n"
   ]
  },
  {
   "cell_type": "markdown",
   "metadata": {},
   "source": [
    "- #### Autor: escribir aquí el nombre del autor"
   ]
  },
  {
   "cell_type": "markdown",
   "metadata": {
    "id": "gRPx5bFIMCnx"
   },
   "source": [
    "### 1º Introducir numeros por el teclado hasta que el usuario introduzca un cero. Al finalizar visualizar por consola la suma de todos los números introducidos."
   ]
  },
  {
   "cell_type": "code",
   "execution_count": 4,
   "metadata": {
    "id": "0tJyU-EJMIMw"
   },
   "outputs": [
    {
     "name": "stdout",
     "output_type": "stream",
     "text": [
      "La suma de todos los números introducidos es: 15\n"
     ]
    }
   ],
   "source": [
    "suma = 0\n",
    "\n",
    "while True:\n",
    "    numero = int(input(\"Introduce un número (0 para terminar): \"))\n",
    "    \n",
    "    if numero == 0:\n",
    "        break\n",
    "    \n",
    "    suma += numero\n",
    "\n",
    "print(f\"La suma de todos los números introducidos es: {suma}\")\n"
   ]
  },
  {
   "cell_type": "markdown",
   "metadata": {
    "id": "XyPhI7fQNdZY"
   },
   "source": [
    "### 2º Introducir un número entero positivo por teclado. Visualizar por consola la suma de sus dígitos"
   ]
  },
  {
   "cell_type": "code",
   "execution_count": 6,
   "metadata": {
    "id": "IUuR_qzVNo6v"
   },
   "outputs": [
    {
     "name": "stdout",
     "output_type": "stream",
     "text": [
      "La suma de los dígitos es: 4\n"
     ]
    }
   ],
   "source": [
    "numero = input(\"Introduce un número entero positivo: \")\n",
    "\n",
    "if numero.isdigit():\n",
    "    suma_digitos = sum(int(digito) for digito in numero)\n",
    "    print(f\"La suma de los dígitos es: {suma_digitos}\")\n",
    "else:\n",
    "    print(\"Por favor, ingresa un número entero positivo.\")\n"
   ]
  },
  {
   "cell_type": "markdown",
   "metadata": {
    "id": "2iVxRgvs2Jla"
   },
   "source": [
    "### 3º Imprimir por consola los números entre el 5 y el 20, saltando de tres en tres."
   ]
  },
  {
   "cell_type": "code",
   "execution_count": null,
   "metadata": {
    "id": "6QVxEmX92Rmo"
   },
   "outputs": [
    {
     "name": "stdout",
     "output_type": "stream",
     "text": [
      "5\n",
      "8\n",
      "11\n",
      "14\n",
      "17\n",
      "20\n"
     ]
    }
   ],
   "source": [
    "for numero in range(5, 21, 3):\n",
    "    print(numero)\n"
   ]
  },
  {
   "cell_type": "markdown",
   "metadata": {
    "id": "g7rwO386P4Sg"
   },
   "source": [
    "### 4º Introducir números enteros por el teclado hasta introducir un cero, en cuyo caso el bucle terminará. Visualizar por consola cual ha sido el mayor número de los introducidos.\n",
    "NOTA: no uses listas."
   ]
  },
  {
   "cell_type": "code",
   "execution_count": 8,
   "metadata": {
    "id": "_1xwxeTpQQy2"
   },
   "outputs": [
    {
     "name": "stdout",
     "output_type": "stream",
     "text": [
      "El mayor número introducido es: 15\n"
     ]
    }
   ],
   "source": [
    "mayor_numero = None\n",
    "\n",
    "while True:\n",
    "    numero = int(input(\"Introduce un número (0 para terminar): \"))\n",
    "    \n",
    "    if numero == 0:\n",
    "        break\n",
    "    \n",
    "    if mayor_numero is None or numero > mayor_numero:\n",
    "        mayor_numero = numero\n",
    "\n",
    "if mayor_numero is not None:\n",
    "    print(f\"El mayor número introducido es: {mayor_numero}\")\n",
    "else:\n",
    "    print(\"No se ha introducido ningún número.\")\n"
   ]
  },
  {
   "cell_type": "markdown",
   "metadata": {
    "id": "0jNOQSVyOcRH"
   },
   "source": [
    "### 5º Introducir por teclado un número. Visualizar por consola todos los números divisores del número introducido."
   ]
  },
  {
   "cell_type": "code",
   "execution_count": 9,
   "metadata": {
    "id": "SrubYYLhOseP"
   },
   "outputs": [
    {
     "name": "stdout",
     "output_type": "stream",
     "text": [
      "Los divisores de 10 son:\n",
      "1\n",
      "2\n",
      "5\n",
      "10\n"
     ]
    }
   ],
   "source": [
    "numero = int(input(\"Introduce un número: \"))\n",
    "\n",
    "print(f\"Los divisores de {numero} son:\")\n",
    "for i in range(1, numero + 1):\n",
    "    if numero % i == 0:\n",
    "        print(i)\n"
   ]
  },
  {
   "cell_type": "markdown",
   "metadata": {
    "id": "0ZauF23ozGUD"
   },
   "source": [
    "### 6º Introducir por teclado una palabra y comprobar si es un palíndromo y visualizarlo por consola. Un palíndromo es una palabra que se lee igual de derechas que de izquierdas (Ejemplo: OSO)"
   ]
  },
  {
   "cell_type": "code",
   "execution_count": 13,
   "metadata": {
    "id": "QnkHvuckzb_m"
   },
   "outputs": [
    {
     "name": "stdout",
     "output_type": "stream",
     "text": [
      "Oso no es un palíndromo.\n"
     ]
    }
   ],
   "source": [
    "palabra = input(\"Introduce una palabra: \")\n",
    "\n",
    "if palabra == palabra[::-1]:\n",
    "    print(f\"{palabra} es un palíndromo.\")\n",
    "else:\n",
    "    print(f\"{palabra} no es un palíndromo.\")\n"
   ]
  },
  {
   "cell_type": "markdown",
   "metadata": {
    "id": "v1LDAJL80pjQ"
   },
   "source": [
    "### 7º Crear un algoritmo que muestre los primeros 10 números de la sucesión de Fibonacci. La sucesión de Fibonacci comienza con los números 0 y 1 y, a partir de éstos, cada elemento es la suma de los dos números anteriores en la secuencia: 0, 1, 1, 2, 3, 5, 8, 13, 21, 34, 55, ..."
   ]
  },
  {
   "cell_type": "code",
   "execution_count": 12,
   "metadata": {
    "id": "9SOk0VEh07fp"
   },
   "outputs": [
    {
     "name": "stdout",
     "output_type": "stream",
     "text": [
      "Los primeros 10 números de la sucesión de Fibonacci son:\n",
      "0\n",
      "1\n",
      "1\n",
      "2\n",
      "3\n",
      "5\n",
      "8\n",
      "13\n",
      "21\n",
      "34\n"
     ]
    }
   ],
   "source": [
    "a, b = 0, 1\n",
    "\n",
    "print(\"Los primeros 10 números de la sucesión de Fibonacci son:\")\n",
    "for _ in range(10):\n",
    "    print(a)\n",
    "    a, b = b, a + b\n"
   ]
  },
  {
   "cell_type": "markdown",
   "metadata": {
    "id": "6tNkqKY82hkH"
   },
   "source": [
    "### 8º Introducir por teclado una edad y el año actual. Visualizar por consola todos los años que han pasado desde su año de nacimiento hasta el año actual (ambos incluidos)"
   ]
  },
  {
   "cell_type": "code",
   "execution_count": 11,
   "metadata": {
    "id": "GZKs4i7x3DR4"
   },
   "outputs": [
    {
     "name": "stdout",
     "output_type": "stream",
     "text": [
      "Los años que has vivido desde 2000 hasta 2024 son:\n",
      "2000\n",
      "2001\n",
      "2002\n",
      "2003\n",
      "2004\n",
      "2005\n",
      "2006\n",
      "2007\n",
      "2008\n",
      "2009\n",
      "2010\n",
      "2011\n",
      "2012\n",
      "2013\n",
      "2014\n",
      "2015\n",
      "2016\n",
      "2017\n",
      "2018\n",
      "2019\n",
      "2020\n",
      "2021\n",
      "2022\n",
      "2023\n",
      "2024\n"
     ]
    }
   ],
   "source": [
    "edad = int(input(\"Introduce tu edad: \"))\n",
    "año_actual = int(input(\"Introduce el año actual: \"))\n",
    "\n",
    "año_nacimiento = año_actual - edad\n",
    "\n",
    "print(f\"Los años que has vivido desde {año_nacimiento} hasta {año_actual} son:\")\n",
    "for año in range(año_nacimiento, año_actual + 1):\n",
    "    print(año)\n"
   ]
  },
  {
   "cell_type": "markdown",
   "metadata": {
    "id": "jXZHzYEq3JsQ"
   },
   "source": [
    "### 9º Realizar un algoritmo que muestre el sumatorio de todos los múltiplos de 3 encontrados entre el 0 y el 100."
   ]
  },
  {
   "cell_type": "code",
   "execution_count": 10,
   "metadata": {
    "id": "alRMhSc73Wlg"
   },
   "outputs": [
    {
     "name": "stdout",
     "output_type": "stream",
     "text": [
      "La suma de todos los múltiplos de 3 entre 0 y 100 es: 1683\n"
     ]
    }
   ],
   "source": [
    "suma_multiples_3 = 0\n",
    "\n",
    "for i in range(0, 101):\n",
    "    if i % 3 == 0:\n",
    "        suma_multiples_3 += i  # Sumar el múltiplo de 3\n",
    "\n",
    "print(f\"La suma de todos los múltiplos de 3 entre 0 y 100 es: {suma_multiples_3}\")\n"
   ]
  },
  {
   "cell_type": "markdown",
   "metadata": {
    "id": "qButIKkn37-H"
   },
   "source": [
    "### 10º Realizar un algoritmo que imprima por consola los números primos de los 100 primeros números (1 a 100). Número primo es aquel que solo es divisible por la unidad y por si mismo. "
   ]
  },
  {
   "cell_type": "code",
   "execution_count": 3,
   "metadata": {
    "id": "DFc9sDLE4URf"
   },
   "outputs": [
    {
     "name": "stdout",
     "output_type": "stream",
     "text": [
      "2\n",
      "3\n",
      "5\n",
      "7\n",
      "11\n",
      "13\n",
      "17\n",
      "19\n",
      "23\n",
      "29\n",
      "31\n",
      "37\n",
      "41\n",
      "43\n",
      "47\n",
      "53\n",
      "59\n",
      "61\n",
      "67\n",
      "71\n",
      "73\n",
      "79\n",
      "83\n",
      "89\n",
      "97\n"
     ]
    }
   ],
   "source": [
    "def es_primo(numero):\n",
    "    if numero <= 1:\n",
    "        return False\n",
    "    for i in range(2, int(numero ** 0.5) + 1):\n",
    "        if numero % i == 0:\n",
    "            return False\n",
    "    return True\n",
    "\n",
    "for num in range(1, 101):\n",
    "    if es_primo(num):\n",
    "        print(num)\n"
   ]
  }
 ],
 "metadata": {
  "colab": {
   "collapsed_sections": [],
   "private_outputs": true,
   "provenance": []
  },
  "kernelspec": {
   "display_name": ".venv",
   "language": "python",
   "name": "python3"
  },
  "language_info": {
   "codemirror_mode": {
    "name": "ipython",
    "version": 3
   },
   "file_extension": ".py",
   "mimetype": "text/x-python",
   "name": "python",
   "nbconvert_exporter": "python",
   "pygments_lexer": "ipython3",
   "version": "3.13.0"
  }
 },
 "nbformat": 4,
 "nbformat_minor": 0
}

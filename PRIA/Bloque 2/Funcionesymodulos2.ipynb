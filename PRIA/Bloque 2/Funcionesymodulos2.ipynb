{
 "cells": [
  {
   "attachments": {},
   "cell_type": "markdown",
   "metadata": {},
   "source": [
    "<center>\n",
    "<h1 style=\"color: #√;\">Python</h1> \n",
    "<h3 style=\"color: #333333;\">Ejercicios Funciones y Módulos II</h3> \n",
    "</center>\n",
    "\n",
    "<br>\n"
   ]
  },
  {
   "cell_type": "markdown",
   "metadata": {},
   "source": [
    "#### Autor: escribir aquí el nombre del autor\n"
   ]
  },
  {
   "cell_type": "markdown",
   "metadata": {},
   "source": [
    "<h2 style=\"color: #007BC4;\">Ejercicio 1</h2>\n",
    "<hr style=\"border: 0.5px solid #007BC4;\">\n",
    "\n",
    "- Implementar un programa en Python que calcule y muestre por pantalla el número de días, horas, minutos y segundos que han transcurrido de 2024\n",
    "en el momento de ejecutarse el programa.\n",
    "\n",
    "- Se recomienda utilizar el módulo datetime.\n",
    "\n",
    "#### Ejemplo de ejecución:\n",
    "<pre>\n",
    "Este año han transcurrido ya 279 días, 13 horas, 2 minutos y 2 segundos.\n",
    "\n",
    "</pre>"
   ]
  },
  {
   "cell_type": "code",
   "execution_count": 3,
   "metadata": {},
   "outputs": [
    {
     "name": "stdout",
     "output_type": "stream",
     "text": [
      "Este año han transcurrido ya 344 días, 18 horas, 35 minutos y 53 segundos.\n"
     ]
    }
   ],
   "source": [
    "# Realiza tu solución aquí o en un archivo .py independiente\n",
    "\n",
    "\n",
    "from datetime import datetime\n",
    "\n",
    "ahora = datetime.now()\n",
    "\n",
    "inicio_anio = datetime(ahora.year, 1, 1)\n",
    "\n",
    "diferencia = ahora - inicio_anio\n",
    "\n",
    "print(f\"Este año han transcurrido ya {diferencia.days} días, \"\n",
    "      f\"{diferencia.seconds // 3600} horas, \"\n",
    "      f\"{(diferencia.seconds % 3600) // 60} minutos y \"\n",
    "      f\"{diferencia.seconds % 60} segundos.\")"
   ]
  },
  {
   "cell_type": "markdown",
   "metadata": {},
   "source": [
    "<h2 style=\"color: #007BC4;\">Ejercicio 2</h2>\n",
    "<hr style=\"border: 0.5px solid #007BC4;\">\n",
    "\n",
    "Desarrollar un programa en Python que permita adivinar un número (en 10 intentos). \n",
    "- El programa genera un número aleatorio entre dos números que pide al usuario:\n",
    "    - El primer número debe ser mayor que 0 y menor que 50.\n",
    "    - El segundo número debe ser mayor que el primer número y menor que 500.\n",
    "\n",
    "A continuación, el programa pedirá números al usuario: \n",
    "- Responderá si el el número a adivinar es mayor o menor que el introducido. \n",
    "- Mostrará muestra también el número de intentos restantes. \n",
    "\n",
    "El programa termina cuando:\n",
    " - El usuario acierta el número: en este caso se indicará en cuantos intentos lo ha acertado\n",
    " - Alcanza el limite de intentos sin acertarlo: en este caso se indica al usuario que no lo ha acertado y se muestra el número que se había generado.\n",
    "\n",
    "\n",
    "Ejemplo de ejecución:\n",
    "\n",
    "<pre>\n",
    "Juego de adivinar\n",
    "-----------------\n",
    "Introduce dos números y generaré un número al azar entre ellos que tendrás que adivinar. \n",
    " \n",
    "Introduce el primer número (entre 1 y 50): 1\n",
    "Introduce el segundo número (entre 2 y 500): 20\n",
    "\n",
    "He generado un número al azar entre 2 y 20, ver si lo aciertas, tienes 10 intentos.\n",
    " \n",
    "Introduce un número (entre 2 y 20): 10\n",
    "¡Ohhh! No has acertado. El número es menor que el número que has introducido.\n",
    "Inténtalo de nuevo, te quedan 9 intentos.\n",
    "\n",
    "Introduce un número (entre 2 y 20): 5\n",
    "¡Ohhh! No has acertado. El número es menor que el número que has introducido.\n",
    "Inténtalo de nuevo, te quedan 8 intentos.\n",
    "\n",
    "Introduce un número (entre 2 y 20): 3\n",
    "¡Ohhh! No has acertado. El número es menor que el número que has introducido.\n",
    "Inténtalo de nuevo, te quedan 7 intentos.\n",
    "\n",
    "Introduce un número (entre 2 y 20): 2\n",
    "¡Muy bien! Has acertado el número en 4 intentos.\n",
    "</pre>"
   ]
  },
  {
   "cell_type": "code",
   "execution_count": 1,
   "metadata": {},
   "outputs": [
    {
     "name": "stdout",
     "output_type": "stream",
     "text": [
      "Juego de adivinar\n",
      "-----------------\n",
      "Introduce dos números y generaré un número al azar entre ellos que tendrás que adivinar.\n",
      "\n",
      "He generado un número al azar entre 5 y 6. ¡Tienes 10 intentos para adivinarlo!\n",
      "\n",
      "¡Ohhh! No has acertado. El número es mayor que el número que has introducido.\n",
      "Inténtalo de nuevo, te quedan 9 intento(s).\n",
      "\n",
      "¡Muy bien! Has acertado el número en 2 intento(s).\n"
     ]
    }
   ],
   "source": [
    "# Realiza tu solución aquí o en un archivo .py independiente\n",
    "\n",
    "import random\n",
    "\n",
    "def obtener_limites():\n",
    "    \"\"\"Obtiene los límites del rango del usuario y los valida.\"\"\"\n",
    "    while True:\n",
    "        try:\n",
    "            limite_inferior = int(input(\"Introduce el primer número (entre 1 y 50): \"))\n",
    "            if not (1 <= limite_inferior < 50):\n",
    "                print(\"El primer número debe estar entre 1 y 50.\")\n",
    "                continue\n",
    "\n",
    "            limite_superior = int(input(f\"Introduce el segundo número (entre {limite_inferior + 1} y 500): \"))\n",
    "            if not (limite_inferior < limite_superior <= 500):\n",
    "                print(f\"El segundo número debe ser mayor que {limite_inferior} y menor o igual a 500.\")\n",
    "                continue\n",
    "\n",
    "            return limite_inferior, limite_superior\n",
    "        except ValueError:\n",
    "            print(\"Por favor, introduce números enteros válidos.\")\n",
    "\n",
    "def juego_adivinar():\n",
    "    \"\"\"Ejecuta el juego de adivinar el número.\"\"\"\n",
    "    print(\"Juego de adivinar\")\n",
    "    print(\"-----------------\")\n",
    "    print(\"Introduce dos números y generaré un número al azar entre ellos que tendrás que adivinar.\")\n",
    "    \n",
    "    limite_inferior, limite_superior = obtener_limites()\n",
    "    numero_a_adivinar = random.randint(limite_inferior, limite_superior)\n",
    "    intentos_restantes = 10\n",
    "\n",
    "    print(f\"\\nHe generado un número al azar entre {limite_inferior} y {limite_superior}. ¡Tienes 10 intentos para adivinarlo!\\n\")\n",
    "\n",
    "    while intentos_restantes > 0:\n",
    "        try:\n",
    "            intento = int(input(f\"Introduce un número (entre {limite_inferior} y {limite_superior}): \"))\n",
    "\n",
    "            if not (limite_inferior <= intento <= limite_superior):\n",
    "                print(f\"Por favor, introduce un número dentro del rango {limite_inferior}-{limite_superior}.\")\n",
    "                continue\n",
    "\n",
    "            if intento == numero_a_adivinar:\n",
    "                print(f\"¡Muy bien! Has acertado el número en {10 - intentos_restantes + 1} intento(s).\")\n",
    "                return\n",
    "\n",
    "            if intento < numero_a_adivinar:\n",
    "                print(\"¡Ohhh! No has acertado. El número es mayor que el número que has introducido.\")\n",
    "            else:\n",
    "                print(\"¡Ohhh! No has acertado. El número es menor que el número que has introducido.\")\n",
    "\n",
    "            # Reducir intentos y mostrar los restantes\n",
    "            intentos_restantes -= 1\n",
    "            print(f\"Inténtalo de nuevo, te quedan {intentos_restantes} intento(s).\\n\")\n",
    "\n",
    "        except ValueError:\n",
    "            print(\"Por favor, introduce un número válido.\")\n",
    "\n",
    "    print(f\"Lo siento, no has acertado el número. El número era {numero_a_adivinar}.\")\n",
    "\n",
    "juego_adivinar()"
   ]
  },
  {
   "cell_type": "markdown",
   "metadata": {},
   "source": [
    "<h2 style=\"color: #007BC4;\">Ejercicio 3</h2>\n",
    "<hr style=\"border: 0.5px solid #007BC4;\">\n",
    "\n",
    "Implementar un programa en Python que:\n",
    "- Pida un número al usuario.\n",
    "- Calcule los números primos hasta ese número utilizando una función generadora.\n",
    "- Muestre por pantalla los números primos.\n",
    "\n",
    "\n",
    "\n",
    "#### Ejemplo de ejecución:\n",
    "<pre>\n",
    "Introduce el número máximo para generar los números primos: 20\n",
    "Los números primos menores o iguales a 20 son: 2 3 5 7 11 13 17 19 \n",
    "</pre>"
   ]
  },
  {
   "cell_type": "code",
   "execution_count": null,
   "metadata": {},
   "outputs": [
    {
     "name": "stdout",
     "output_type": "stream",
     "text": [
      "Los números primos menores o iguales a 20 son: 2 3 5 7 11 13 17 19\n"
     ]
    }
   ],
   "source": [
    "# Realiza tu solución aquí o en un archivo .py independiente\n",
    "\n",
    "\n",
    "def generar_primos(maximo):\n",
    "    \"\"\"Generador que produce números primos hasta el máximo dado.\"\"\"\n",
    "    for num in range(2, maximo + 1):\n",
    "        if all(num % i != 0 for i in range(2, int(num**0.5) + 1)):\n",
    "            yield num\n",
    "\n",
    "try:\n",
    "    maximo = int(input(\"Introduce el número máximo para generar los números primos: \"))\n",
    "    if maximo < 2:\n",
    "        print(\"No hay números primos menores a 2.\")\n",
    "    else:\n",
    "        print(\"Los números primos menores o iguales a\", maximo, \"son:\", *generar_primos(maximo))\n",
    "except ValueError:\n",
    "    print(\"Por favor, introduce un número entero válido.\")"
   ]
  },
  {
   "cell_type": "markdown",
   "metadata": {},
   "source": [
    "<h2 style=\"color: #007BC4;\">Ejercicio 4</h2>\n",
    "<hr style=\"border: 0.5px solid #007BC4;\">\n",
    "\n",
    "Define un decorador que mida el tiempo de ejecución de la función que decora y lo muestre por pantalla (en segundos con dos decimales). \n",
    "\n",
    "- Elige el nombre que prefieras para el decorador, un posible nombre sería: mide_tiempo\n",
    "- Puedes probar el decorador con las funciones que quieras.\n",
    "- Una sugerencia de funcion para realizar pruebas es la siguiente:\n",
    "\n",
    "<pre>\n",
    "        def suma(n):\n",
    "            return sum(range(n)) \n",
    "\n",
    "        @mide_tiempo \n",
    "        suma(100000000)\n",
    "        \n",
    "        ------\n",
    "        La salida por pantalla sería:\n",
    "        \n",
    "        La función suma tardó 1.65 segundos en ejecutarse.\n",
    "</pre>\n"
   ]
  },
  {
   "cell_type": "code",
   "execution_count": 6,
   "metadata": {},
   "outputs": [
    {
     "name": "stdout",
     "output_type": "stream",
     "text": [
      "La función suma tardó 1.67 segundos en ejecutarse.\n"
     ]
    },
    {
     "data": {
      "text/plain": [
       "4999999950000000"
      ]
     },
     "execution_count": 6,
     "metadata": {},
     "output_type": "execute_result"
    }
   ],
   "source": [
    "# Realiza tu solución aquí o en un archivo .py independiente\n",
    "\n",
    "import time\n",
    "\n",
    "def mide_tiempo(func):\n",
    "    \"\"\"Decorador que mide y muestra el tiempo de ejecución de una función.\"\"\"\n",
    "    def envoltura(*args, **kwargs):\n",
    "        inicio = time.time()\n",
    "        resultado = func(*args, **kwargs)\n",
    "        print(f\"La función {func.__name__} tardó {time.time() - inicio:.2f} segundos en ejecutarse.\")\n",
    "        return resultado\n",
    "    return envoltura\n",
    "\n",
    "@mide_tiempo\n",
    "def suma(n):\n",
    "    return sum(range(n))\n",
    "\n",
    "suma(100000000)"
   ]
  }
 ],
 "metadata": {
  "kernelspec": {
   "display_name": "Python 3",
   "language": "python",
   "name": "python3"
  },
  "language_info": {
   "codemirror_mode": {
    "name": "ipython",
    "version": 3
   },
   "file_extension": ".py",
   "mimetype": "text/x-python",
   "name": "python",
   "nbconvert_exporter": "python",
   "pygments_lexer": "ipython3",
   "version": "3.13.0"
  },
  "vscode": {
   "interpreter": {
    "hash": "aee8b7b246df8f9039afb4144a1f6fd8d2ca17a180786b69acc140d282b71a49"
   }
  }
 },
 "nbformat": 4,
 "nbformat_minor": 4
}

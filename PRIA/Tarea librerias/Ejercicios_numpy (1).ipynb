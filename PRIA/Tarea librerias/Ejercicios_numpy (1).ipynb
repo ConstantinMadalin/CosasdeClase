{
 "cells": [
  {
   "cell_type": "markdown",
   "metadata": {},
   "source": [
    "## Ejercicios Numpy "
   ]
  },
  {
   "cell_type": "markdown",
   "metadata": {},
   "source": [
    "#### 1. Crea una matriz 4*4 rellena con el valor 0.5"
   ]
  },
  {
   "cell_type": "code",
   "execution_count": null,
   "metadata": {},
   "outputs": [
    {
     "name": "stdout",
     "output_type": "stream",
     "text": [
      "[[0.5 0.5 0.5 0.5]\n",
      " [0.5 0.5 0.5 0.5]\n",
      " [0.5 0.5 0.5 0.5]\n",
      " [0.5 0.5 0.5 0.5]]\n"
     ]
    }
   ],
   "source": [
    "import numpy as np\n",
    "\n",
    "matriz = np.full((4, 4), 0.5)\n",
    "\n",
    "print(matriz)\n"
   ]
  },
  {
   "cell_type": "markdown",
   "metadata": {},
   "source": [
    "#### 2. Crea una matriz 6*6 con unos en los bordes y 0 en el interior (utilizando slicing)"
   ]
  },
  {
   "cell_type": "code",
   "execution_count": 3,
   "metadata": {},
   "outputs": [
    {
     "name": "stdout",
     "output_type": "stream",
     "text": [
      "[[1. 1. 1. 1. 1. 1.]\n",
      " [1. 0. 0. 0. 0. 1.]\n",
      " [1. 0. 0. 0. 0. 1.]\n",
      " [1. 0. 0. 0. 0. 1.]\n",
      " [1. 0. 0. 0. 0. 1.]\n",
      " [1. 1. 1. 1. 1. 1.]]\n"
     ]
    }
   ],
   "source": [
    "import numpy as np\n",
    "\n",
    "matriz = np.zeros((6, 6))\n",
    "\n",
    "matriz[0, :] = 1        \n",
    "matriz[-1, :] = 1       \n",
    "matriz[:, 0] = 1       \n",
    "matriz[:, -1] = 1      \n",
    "\n",
    "print(matriz)\n"
   ]
  },
  {
   "cell_type": "markdown",
   "metadata": {},
   "source": [
    "#### 3. Crea una matriz de numpy 3*2 a partir de una lista de listas de números float"
   ]
  },
  {
   "cell_type": "code",
   "execution_count": 4,
   "metadata": {},
   "outputs": [
    {
     "name": "stdout",
     "output_type": "stream",
     "text": [
      "[[1.1 2.2]\n",
      " [3.3 4.4]\n",
      " [5.5 6.6]]\n"
     ]
    }
   ],
   "source": [
    "import numpy as np\n",
    "\n",
    "lista = [[1.1, 2.2], [3.3, 4.4], [5.5, 6.6]]\n",
    "\n",
    "matriz = np.array(lista)\n",
    "\n",
    "print(matriz)"
   ]
  },
  {
   "cell_type": "markdown",
   "metadata": {},
   "source": [
    "#### 4. Divide entre 4 los valores de la columna 1"
   ]
  },
  {
   "cell_type": "code",
   "execution_count": 5,
   "metadata": {},
   "outputs": [
    {
     "name": "stdout",
     "output_type": "stream",
     "text": [
      "[[1.1  0.55]\n",
      " [3.3  1.1 ]\n",
      " [5.5  1.65]]\n"
     ]
    }
   ],
   "source": [
    "import numpy as np\n",
    "\n",
    "lista = [[1.1, 2.2], [3.3, 4.4], [5.5, 6.6]]\n",
    "\n",
    "matriz = np.array(lista)\n",
    "\n",
    "matriz[:, 1] = matriz[:, 1] / 4\n",
    "\n",
    "print(matriz)\n"
   ]
  },
  {
   "cell_type": "markdown",
   "metadata": {},
   "source": [
    "#### 5. Calcula la media de los elementos de las primeras dos primeras filas"
   ]
  },
  {
   "cell_type": "code",
   "execution_count": 6,
   "metadata": {},
   "outputs": [
    {
     "name": "stdout",
     "output_type": "stream",
     "text": [
      "2.75\n"
     ]
    }
   ],
   "source": [
    "import numpy as np\n",
    "\n",
    "lista = [[1.1, 2.2], [3.3, 4.4], [5.5, 6.6]]\n",
    "\n",
    "matriz = np.array(lista)\n",
    "\n",
    "media = np.mean(matriz[:2])  \n",
    "\n",
    "print(media)\n"
   ]
  },
  {
   "cell_type": "markdown",
   "metadata": {},
   "source": [
    "#### 6. Crea una matriz aletoria de 4*4 con valores en [0, 1) \n",
    "\n",
    "El módulo <code>random</code> de numpy sirve para generar números aleatorios. En él tenemos varias funciones entre ellas <a href=\"https://numpy.org/doc/stable/reference/random/generated/numpy.random.rand.html\">rand</a>\n",
    "\n"
   ]
  },
  {
   "cell_type": "code",
   "execution_count": 7,
   "metadata": {},
   "outputs": [
    {
     "name": "stdout",
     "output_type": "stream",
     "text": [
      "[[0.11879695 0.67714871 0.17187971 0.88185673]\n",
      " [0.60187021 0.11801084 0.12063867 0.71161374]\n",
      " [0.27324641 0.6518622  0.92732969 0.9463253 ]\n",
      " [0.74124629 0.45550391 0.48131396 0.24990372]]\n"
     ]
    }
   ],
   "source": [
    "import numpy as np\n",
    "\n",
    "matriz_aleatoria = np.random.rand(4, 4)\n",
    "\n",
    "print(matriz_aleatoria)\n"
   ]
  },
  {
   "cell_type": "markdown",
   "metadata": {},
   "source": [
    "#### 7.  Muestra la suma, media y desviación de los elementos de la matriz del ejercicio 1 "
   ]
  },
  {
   "cell_type": "code",
   "execution_count": 2,
   "metadata": {},
   "outputs": [
    {
     "name": "stdout",
     "output_type": "stream",
     "text": [
      "Suma: 8.0\n",
      "Media: 0.5\n",
      "Desviación estándar: 0.0\n"
     ]
    }
   ],
   "source": [
    "\n",
    "import numpy as np\n",
    "\n",
    "matriz = np.full((4, 4), 0.5)\n",
    "\n",
    "suma = np.sum(matriz)\n",
    "\n",
    "media = np.mean(matriz)\n",
    "\n",
    "desviacion = np.std(matriz)\n",
    "\n",
    "print(f\"Suma: {suma}\")\n",
    "print(f\"Media: {media}\")\n",
    "print(f\"Desviación estándar: {desviacion}\")\n"
   ]
  },
  {
   "cell_type": "markdown",
   "metadata": {},
   "source": [
    "#### 8. Ordena por filas la matriz del ejercicio 1"
   ]
  },
  {
   "cell_type": "code",
   "execution_count": 1,
   "metadata": {},
   "outputs": [
    {
     "name": "stdout",
     "output_type": "stream",
     "text": [
      "[[0.5 0.5 0.5 0.5]\n",
      " [0.5 0.5 0.5 0.5]\n",
      " [0.5 0.5 0.5 0.5]\n",
      " [0.5 0.5 0.5 0.5]]\n"
     ]
    }
   ],
   "source": [
    "\n",
    "import numpy as np\n",
    "\n",
    "matriz = np.full((4, 4), 0.5)\n",
    "\n",
    "matriz_ordenada = np.sort(matriz, axis=1)\n",
    "\n",
    "print(matriz_ordenada)\n"
   ]
  },
  {
   "cell_type": "markdown",
   "metadata": {},
   "source": [
    "#### 9. Multiplica las matrices del ejercio 1 y 6"
   ]
  },
  {
   "cell_type": "code",
   "execution_count": 4,
   "metadata": {},
   "outputs": [
    {
     "name": "stdout",
     "output_type": "stream",
     "text": [
      "Matriz con valores 0.5:\n",
      "[[0.5 0.5 0.5 0.5]\n",
      " [0.5 0.5 0.5 0.5]\n",
      " [0.5 0.5 0.5 0.5]\n",
      " [0.5 0.5 0.5 0.5]]\n",
      "\n",
      "Matriz aleatoria:\n",
      "[[0.15573295 0.00809152 0.11313801 0.61246795]\n",
      " [0.01835289 0.10720832 0.42116048 0.75136881]\n",
      " [0.25209999 0.50089344 0.28775613 0.55083046]\n",
      " [0.32125948 0.97758801 0.11760707 0.60023269]]\n",
      "\n",
      "Resultado de la multiplicación:\n",
      "[[0.37372265 0.79689064 0.46983084 1.25744995]\n",
      " [0.37372265 0.79689064 0.46983084 1.25744995]\n",
      " [0.37372265 0.79689064 0.46983084 1.25744995]\n",
      " [0.37372265 0.79689064 0.46983084 1.25744995]]\n"
     ]
    }
   ],
   "source": [
    "import numpy as np\n",
    "\n",
    "matriz = np.full((4, 4), 0.5)\n",
    "\n",
    "matriz_aleatoria = np.random.rand(4, 4)\n",
    "\n",
    "resultado = np.dot(matriz, matriz_aleatoria)\n",
    "\n",
    "print(\"Matriz con valores 0.5:\")\n",
    "print(matriz)\n",
    "\n",
    "print(\"\\nMatriz aleatoria:\")\n",
    "print(matriz_aleatoria)\n",
    "\n",
    "print(\"\\nResultado de la multiplicación:\")\n",
    "print(resultado)\n"
   ]
  },
  {
   "cell_type": "markdown",
   "metadata": {},
   "source": [
    "#### 10. Prueba a concatenar las matrices de los ejercicios 1 y 6 en vertical y horizontal\n",
    "\n",
    "Echa un vistazo al apartado 2 del siguiente <a href=\"https://rmoralesdelgado.com/all/numpy-concatenate-r_-c_/\"> link </a> donde explica el uso de <a href=\"https://numpy.org/doc/stable/reference/generated/numpy.c_.html\">numpy.c_ </a> y <a href=\"https://numpy.org/doc/stable/reference/generated/numpy.r_.html\">numpy.r_</a>\n",
    "\n",
    "Fíjate también en <code>%%timeit</code> que se usa en Jupyter notebooks para medir el tiempo de ejecución de un bloque de código"
   ]
  },
  {
   "cell_type": "code",
   "execution_count": 5,
   "metadata": {},
   "outputs": [
    {
     "name": "stdout",
     "output_type": "stream",
     "text": [
      "Concatenación Horizontal:\n",
      "[[0.5        0.5        0.5        0.5        0.34280036 0.5198558\n",
      "  0.63487627 0.12065119]\n",
      " [0.5        0.5        0.5        0.5        0.9196602  0.32385692\n",
      "  0.17821532 0.26549533]\n",
      " [0.5        0.5        0.5        0.5        0.3793852  0.45167561\n",
      "  0.74109288 0.42927601]\n",
      " [0.5        0.5        0.5        0.5        0.30361926 0.39391909\n",
      "  0.80562634 0.42035801]]\n",
      "\n",
      "Concatenación Vertical:\n",
      "[[0.5        0.5        0.5        0.5       ]\n",
      " [0.5        0.5        0.5        0.5       ]\n",
      " [0.5        0.5        0.5        0.5       ]\n",
      " [0.5        0.5        0.5        0.5       ]\n",
      " [0.34280036 0.5198558  0.63487627 0.12065119]\n",
      " [0.9196602  0.32385692 0.17821532 0.26549533]\n",
      " [0.3793852  0.45167561 0.74109288 0.42927601]\n",
      " [0.30361926 0.39391909 0.80562634 0.42035801]]\n",
      "\n",
      "Concatenación Horizontal con np.c_:\n",
      "[[0.5        0.5        0.5        0.5        0.34280036 0.5198558\n",
      "  0.63487627 0.12065119]\n",
      " [0.5        0.5        0.5        0.5        0.9196602  0.32385692\n",
      "  0.17821532 0.26549533]\n",
      " [0.5        0.5        0.5        0.5        0.3793852  0.45167561\n",
      "  0.74109288 0.42927601]\n",
      " [0.5        0.5        0.5        0.5        0.30361926 0.39391909\n",
      "  0.80562634 0.42035801]]\n",
      "\n",
      "Concatenación Vertical con np.r_:\n",
      "[[0.5        0.5        0.5        0.5       ]\n",
      " [0.5        0.5        0.5        0.5       ]\n",
      " [0.5        0.5        0.5        0.5       ]\n",
      " [0.5        0.5        0.5        0.5       ]\n",
      " [0.34280036 0.5198558  0.63487627 0.12065119]\n",
      " [0.9196602  0.32385692 0.17821532 0.26549533]\n",
      " [0.3793852  0.45167561 0.74109288 0.42927601]\n",
      " [0.30361926 0.39391909 0.80562634 0.42035801]]\n"
     ]
    }
   ],
   "source": [
    "import numpy as np\n",
    "\n",
    "matriz = np.full((4, 4), 0.5)\n",
    "\n",
    "matriz_aleatoria = np.random.rand(4, 4)\n",
    "\n",
    "concat_horizontal = np.hstack((matriz, matriz_aleatoria))\n",
    "\n",
    "concat_vertical = np.vstack((matriz, matriz_aleatoria))\n",
    "\n",
    "concat_horizontal_c = np.c_[matriz, matriz_aleatoria]\n",
    "\n",
    "concat_vertical_r = np.r_[matriz, matriz_aleatoria]\n",
    "\n",
    "print(\"Concatenación Horizontal:\")\n",
    "print(concat_horizontal)\n",
    "\n",
    "print(\"\\nConcatenación Vertical:\")\n",
    "print(concat_vertical)\n",
    "\n",
    "print(\"\\nConcatenación Horizontal con np.c_:\")\n",
    "print(concat_horizontal_c)\n",
    "\n",
    "print(\"\\nConcatenación Vertical con np.r_:\")\n",
    "print(concat_vertical_r)\n",
    "\n"
   ]
  }
 ],
 "metadata": {
  "kernelspec": {
   "display_name": "Python 3",
   "language": "python",
   "name": "python3"
  },
  "language_info": {
   "codemirror_mode": {
    "name": "ipython",
    "version": 3
   },
   "file_extension": ".py",
   "mimetype": "text/x-python",
   "name": "python",
   "nbconvert_exporter": "python",
   "pygments_lexer": "ipython3",
   "version": "3.13.1"
  }
 },
 "nbformat": 4,
 "nbformat_minor": 2
}

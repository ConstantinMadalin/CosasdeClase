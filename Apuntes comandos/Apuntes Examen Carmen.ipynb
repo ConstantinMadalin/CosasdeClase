{
 "cells": [
  {
   "cell_type": "markdown",
   "metadata": {},
   "source": [
    "---------------------------------------------------------------------------Tarea Flood_fill--------------------------------------------------------------------------------------------------------"
   ]
  },
  {
   "cell_type": "code",
   "execution_count": null,
   "metadata": {},
   "outputs": [],
   "source": [
    "import numpy as np\n",
    "import matplotlib.pyplot as plt\n",
    "from collections import deque\n",
    "\n",
    "# Función de Flood Fill\n",
    "def flood_fill_modified(matrix, start, new_color):\n",
    "    rows, cols = matrix.shape\n",
    "    x, y = start\n",
    "    original_color = matrix[x, y]\n",
    "    \n",
    "    if original_color == new_color:\n",
    "        return matrix, []\n",
    "\n",
    "    queue = deque([start])\n",
    "    affected_cells = []\n",
    "\n",
    "    while queue:\n",
    "        cx, cy = queue.popleft()\n",
    "\n",
    "        if 0 <= cx < rows and 0 <= cy < cols and matrix[cx, cy] == original_color:\n",
    "            matrix[cx, cy] = new_color\n",
    "            affected_cells.append((cx, cy))\n",
    "\n",
    "            for dx, dy in [(-1, 0), (1, 0), (0, -1), (0, 1)]:\n",
    "                queue.append((cx + dx, cy + dy))\n",
    "\n",
    "    return matrix, affected_cells\n",
    "\n",
    "# Función para graficar las matrices\n",
    "def plot_matrices_as_points(matrix_original, matrix_modified, affected_cells, title_before=\"Matriz Original Antigua\", title_after=\"Matriz Modificada Nueva\"):\n",
    "    rows, cols = matrix_original.shape\n",
    "\n",
    "    def map_color(value):\n",
    "        if value == 255:\n",
    "            return \"white\"  # Color para los valores 255\n",
    "        elif value == 0:\n",
    "            return \"black\"  # Color para los valores 0\n",
    "        else:\n",
    "            return \"gray\"   # Color para otros valores\n",
    "\n",
    "    # Procesar la matriz original\n",
    "    x_points_orig, y_points_orig, colors_orig = [], [], []\n",
    "    for i in range(rows):\n",
    "        for j in range(cols):\n",
    "            x_points_orig.append(j)\n",
    "            y_points_orig.append(i)\n",
    "            colors_orig.append(map_color(matrix_original[i, j]))\n",
    "\n",
    "    # Procesar la matriz modificada\n",
    "    x_points_mod, y_points_mod, colors_mod = [], [], []\n",
    "    for i in range(rows):\n",
    "        for j in range(cols):\n",
    "            x_points_mod.append(j)\n",
    "            y_points_mod.append(i)\n",
    "            colors_mod.append(map_color(matrix_modified[i, j]))\n",
    "\n",
    "    # Crear subgráficos\n",
    "    fig, axes = plt.subplots(1, 2, figsize=(12, 6))\n",
    "\n",
    "    # Matriz original\n",
    "    axes[0].scatter(x_points_orig, y_points_orig, c=colors_orig, s=300, edgecolors=\"black\")\n",
    "    axes[0].invert_yaxis()\n",
    "    axes[0].set_title(title_before)\n",
    "    axes[0].grid(visible=True, color=\"gray\", linewidth=0.5)\n",
    "\n",
    "    # Matriz modificada\n",
    "    axes[1].scatter(x_points_mod, y_points_mod, c=colors_mod, s=300, edgecolors=\"black\")\n",
    "    if affected_cells:\n",
    "        hx, hy = zip(*affected_cells)  # Coordenadas de las celdas afectadas\n",
    "        axes[1].scatter(hy, hx, color=\"blue\", s=300, edgecolors=\"black\", label=\"Celdas Afectadas\")  \n",
    "        axes[1].legend(loc=\"upper right\")  # Agregar leyenda\n",
    "    axes[1].invert_yaxis()\n",
    "    axes[1].set_title(f\"{title_after}\\nCeldas Afectadas: {len(affected_cells)}\")  # Añadir conteo de celdas\n",
    "    axes[1].grid(visible=True, color=\"gray\", linewidth=0.5)\n",
    "\n",
    "    plt.tight_layout()\n",
    "    plt.show()\n",
    "\n",
    "# Pedir datos al usuario\n",
    "startfila = int(input(\"Dame la posición de la fila (índice empieza en 0): \"))\n",
    "startcolumna = int(input(\"Dame la posición de la columna (índice empieza en 0): \"))\n",
    "new_color = int(input(\"Dame el nuevo color (entero entre 0 y 255): \"))\n",
    "start = (startfila, startcolumna)\n",
    "\n",
    "# Matriz inicial\n",
    "matrix = np.array([\n",
    "    [255, 255, 255, 255, 255],\n",
    "    [0, 0,   255,   255, 255],\n",
    "    [255, 0,   255, 255,   255],\n",
    "    [255, 0, 255,   255,   255],\n",
    "    [255, 0, 255, 255, 255],\n",
    "    [255, 0,   255, 255,   255],\n",
    "    [255, 0, 255, 255, 255]\n",
    "], dtype=np.uint8)\n",
    "\n",
    "# Aplicar flood fill\n",
    "matrix_modified, affected_cells = flood_fill_modified(matrix.copy(), start, new_color)\n",
    "\n",
    "# Mostrar los resultados\n",
    "plot_matrices_as_points(matrix, matrix_modified, affected_cells, \n",
    "                        title_before=\"Matriz Original Antigua (Puntos)\", \n",
    "                        title_after=\"Matriz Modificada Nueva (Puntos)\")\n"
   ]
  },
  {
   "cell_type": "markdown",
   "metadata": {},
   "source": [
    "Vamos a importar las librerias: \n",
    "\n",
    "\n",
    "numpy (importado como np): Se utiliza para trabajar con matrices numéricas de manera eficiente.\n",
    "\n",
    "matplotlib.pyplot (importado como plt): Se usa para crear gráficos. En este caso, se usa para visualizar las matrices.\n",
    "\n",
    "\n",
    "deque: Es una estructura de datos que se utiliza para implementar el algoritmo de Flood Fill. Es una cola eficiente para agregar y eliminar elementos."
   ]
  },
  {
   "cell_type": "code",
   "execution_count": null,
   "metadata": {},
   "outputs": [],
   "source": [
    "import numpy as np\n",
    "\n",
    "import matplotlib.pyplot as plt\n",
    "\n",
    "from collections import deque"
   ]
  },
  {
   "cell_type": "markdown",
   "metadata": {},
   "source": [
    "Función flood_fill_modified:\n",
    "\n",
    "\n",
    "Esta es la implementación del algoritmo Flood Fill, que cambia el color de una región conectada de la matriz:\n",
    "\n",
    "1.Parámetros:\n",
    "\n",
    "matrix: La matriz que representa la imagen o el área de colores.\n",
    "\n",
    "start: Tupla (x, y) que indica la celda de inicio.\n",
    "\n",
    "new_color: El nuevo color que se usará para llenar la región.\n",
    "\n",
    "\n",
    "\n",
    "2.Lógica:\n",
    "\n",
    "Se obtienen las dimensiones de la matriz (rows, cols) y el color original de la celda de inicio (original_color).\n",
    "\n",
    "Si el color original es el mismo que el nuevo, no hace nada y retorna la matriz tal cual.\n",
    "\n",
    "Usamos una cola (queue) para manejar los píxeles que se van a procesar. Inicialmente, contiene la celda de inicio.\n",
    "\n",
    "\n",
    "Mientras haya celdas por procesar:\n",
    "\n",
    "Se extrae un elemento de la cola.\n",
    "\n",
    "Si es parte de la región que queremos llenar (es decir, tiene el color original), se cambia a new_color.\n",
    "\n",
    "Las celdas adyacentes (arriba, abajo, izquierda, derecha) se añaden a la cola para ser procesadas.\n",
    "\n",
    "Finalmente, devuelve la matriz modificada y una lista con las celdas afectadas por el flood fill.\n"
   ]
  },
  {
   "cell_type": "code",
   "execution_count": null,
   "metadata": {},
   "outputs": [],
   "source": [
    "def flood_fill_modified(matrix, start, new_color):\n",
    "    rows, cols = matrix.shape\n",
    "    x, y = start\n",
    "    original_color = matrix[x, y]\n",
    "    \n",
    "    if original_color == new_color:\n",
    "        return matrix, []\n",
    "\n",
    "    queue = deque([start])\n",
    "    affected_cells = []\n",
    "\n",
    "    while queue:\n",
    "        cx, cy = queue.popleft()\n",
    "\n",
    "        if 0 <= cx < rows and 0 <= cy < cols and matrix[cx, cy] == original_color:\n",
    "            matrix[cx, cy] = new_color\n",
    "            affected_cells.append((cx, cy))\n",
    "\n",
    "            for dx, dy in [(-1, 0), (1, 0), (0, -1), (0, 1)]:\n",
    "                queue.append((cx + dx, cy + dy))\n",
    "\n",
    "    return matrix, affected_cells\n"
   ]
  },
  {
   "cell_type": "markdown",
   "metadata": {},
   "source": [
    "Función plot_matrices_as_points:\n",
    "\n",
    "Esta función se encarga de visualizar las matrices antes y después de aplicar el flood fill, destacando las celdas afectadas:\n",
    "\n",
    "1.Parámetros:\n",
    "\n",
    "matrix_original: La matriz original (antes del flood fill).\n",
    "\n",
    "matrix_modified: La matriz después de haber aplicado el flood fill.\n",
    "\n",
    "affected_cells: Lista de las celdas que fueron modificadas.\n",
    "\n",
    "title_before, title_after: Títulos que se mostrarán en los gráficos.\n",
    "\n",
    "\n",
    "2.Lógica:\n",
    "\n",
    "Función map_color: Convierte los valores de la matriz en colores visibles para el gráfico.\n",
    "\n",
    "Si el valor es 255, será blanco.\n",
    "\n",
    "Si el valor es 0, será negro.\n",
    "\n",
    "Para otros valores, se usará gris.\n",
    "\n",
    "Procesar la matriz original: Se recorren las celdas de la matriz original y se asignan las coordenadas (x, y) y el color correspondiente para graficarlas.\n",
    "\n",
    "Procesar la matriz modificada: Similar al paso anterior, pero con los datos de la matriz modificada.\n",
    "\n",
    "Se crean dos gráficos en un único subgráfico:\n",
    "\n",
    "El primero muestra la matriz original.\n",
    "\n",
    "El segundo muestra la matriz modificada, y si hay celdas afectadas, las resalta con color azul y agrega una leyenda.\n",
    "\n"
   ]
  },
  {
   "cell_type": "code",
   "execution_count": null,
   "metadata": {},
   "outputs": [],
   "source": [
    "def plot_matrices_as_points(matrix_original, matrix_modified, affected_cells, title_before=\"Matriz Original Antigua\", title_after=\"Matriz Modificada Nueva\"):\n"
   ]
  },
  {
   "cell_type": "markdown",
   "metadata": {},
   "source": [
    "Entrada de datos del usuario:\n",
    "\n",
    "Aquí, el programa pide al usuario las siguientes entradas:\n",
    "\n",
    "La fila (índice) y la columna donde debe comenzar el flood fill.\n",
    "\n",
    "El nuevo color que se aplicará a las celdas de la región seleccionada."
   ]
  },
  {
   "cell_type": "code",
   "execution_count": null,
   "metadata": {},
   "outputs": [],
   "source": [
    "startfila = int(input(\"Dame la posición de la fila (índice empieza en 0): \"))\n",
    "startcolumna = int(input(\"Dame la posición de la columna (índice empieza en 0): \"))\n",
    "new_color = int(input(\"Dame el nuevo color (entero entre 0 y 255): \"))\n",
    "start = (startfila, startcolumna)\n"
   ]
  },
  {
   "cell_type": "markdown",
   "metadata": {},
   "source": [
    "Matriz inicial:\n",
    "\n",
    "Esta es la matriz original de 7x5 con valores entre 0 (negro) y 255 (blanco), representando una imagen que se va a modificar."
   ]
  },
  {
   "cell_type": "code",
   "execution_count": null,
   "metadata": {},
   "outputs": [],
   "source": [
    "matrix = np.array([\n",
    "    [255, 255, 255, 255, 255],\n",
    "    [0, 0,   255,   255, 255],\n",
    "    [255, 0,   255, 255,   255],\n",
    "    [255, 0, 255,   255,   255],\n",
    "    [255, 0, 255, 255, 255],\n",
    "    [255, 0,   255, 255,   255],\n",
    "    [255, 0, 255, 255, 255]\n",
    "], dtype=np.uint8)\n"
   ]
  },
  {
   "cell_type": "markdown",
   "metadata": {},
   "source": [
    "Aplicar Flood Fill:\n",
    "\n",
    "Aquí se llama a la función flood_fill_modified para modificar la matriz a partir de la posición de inicio y con el nuevo color. matrix.copy() se utiliza para que la matriz original no se modifique."
   ]
  },
  {
   "cell_type": "code",
   "execution_count": null,
   "metadata": {},
   "outputs": [],
   "source": [
    "matrix_modified, affected_cells = flood_fill_modified(matrix.copy(), start, new_color)\n"
   ]
  },
  {
   "cell_type": "markdown",
   "metadata": {},
   "source": [
    "Mostrar los resultados:\n",
    "\n",
    "Finalmente, se llama a la función plot_matrices_as_points para graficar la matriz original y la modificada, destacando las celdas que fueron afectadas por el flood fill.\n"
   ]
  },
  {
   "cell_type": "code",
   "execution_count": null,
   "metadata": {},
   "outputs": [],
   "source": [
    "plot_matrices_as_points(matrix, matrix_modified, affected_cells, \n",
    "                        title_before=\"Matriz Original Antigua (Puntos)\", \n",
    "                        title_after=\"Matriz Modificada Nueva (Puntos)\")\n"
   ]
  },
  {
   "cell_type": "markdown",
   "metadata": {},
   "source": [
    "Resumen que hace el codigo:\n",
    "\n",
    "El algoritmo Flood Fill cambia el color de una región conectada en la matriz.\n",
    "\n",
    "La función de visualización muestra cómo se ve la matriz antes y después del cambio.\n",
    "\n",
    "El código permite al usuario especificar un punto de inicio y un nuevo color, y luego realiza y muestra el proceso."
   ]
  },
  {
   "cell_type": "markdown",
   "metadata": {},
   "source": [
    "---------------------------------------------------------------------------Tarea Flood_fill--------------------------------------------------------------------------------------------------------"
   ]
  }
 ],
 "metadata": {
  "kernelspec": {
   "display_name": "Python 3",
   "language": "python",
   "name": "python3"
  },
  "language_info": {
   "name": "python",
   "version": "3.13.1"
  }
 },
 "nbformat": 4,
 "nbformat_minor": 2
}

{
 "cells": [
  {
   "cell_type": "markdown",
   "metadata": {},
   "source": [
    "Esta burbuja de codigo hace una solicitud a la pagina web para obtener los datos sobre los precios de la electricidad en un dia especifico y lo vamos a hacer con la herramienta requests para preguntar a la pagina web (API) por su datos."
   ]
  },
  {
   "cell_type": "code",
   "execution_count": 19,
   "metadata": {},
   "outputs": [],
   "source": [
    "import requests\n",
    "\n",
    "def obtener_datos_api(data):\n",
    "    url = \"https://apidatos.ree.es/es/datos/mercados/precios-mercados-tiempo-real?start_date=2025-01-28T00:00&end_date=2025-01-29T20:00&time_trunc=hour\"\n",
    "    params = {\n",
    "        \"start_date\": f\"{data}T00:00\",\n",
    "        \"end_date\": f\"{data}T23:59\",\n",
    "        \"time_trunc\": \"hour\"\n",
    "    }\n",
    "    respuesta = requests.get(url, params=params)\n",
    "    if respuesta.status_code == 200:\n",
    "        return respuesta.json()\n",
    "    else:\n",
    "        print(\"Error al obtener los datos.\")\n",
    "        return None\n"
   ]
  },
  {
   "cell_type": "markdown",
   "metadata": {},
   "source": [
    "En esta Burbuja vamos a tomar los datos que recibimos de la API y los extraimos en dos cosas que queremos, en mi punto voy a extraer la horas y los precios por hora."
   ]
  },
  {
   "cell_type": "code",
   "execution_count": 20,
   "metadata": {},
   "outputs": [],
   "source": [
    "def extraer_precios_y_horas(datos):\n",
    "    precios = datos[\"included\"][0][\"attributes\"][\"values\"]\n",
    "    horas = [item[\"datetime\"][11:16] for item in precios]\n",
    "    valores = [item[\"value\"] for item in precios]\n",
    "    return horas, valores\n"
   ]
  },
  {
   "cell_type": "markdown",
   "metadata": {},
   "source": [
    "En esta Burbuja vamos a encontrar las horas con los precios mas baratos y mas caros y lo vamos a hacer combinado las listas de precios y horas con zip() para que cada precio tenga su hora correspondiente. Luego vamos a usar sorted() para ordenar los precios de menor a mayor para encotrnar la mas barata y de mayor a menor para las mas caras y luego vamos a seleccionar las primeras dos horas de cada lista(las dos mas baratas y las dos mas caras)"
   ]
  },
  {
   "cell_type": "code",
   "execution_count": 21,
   "metadata": {},
   "outputs": [],
   "source": [
    "def calcular_horas_extremas(horas, valores):\n",
    "    min_precios = sorted(zip(valores, horas))[:2]  # Las dos horas más baratas\n",
    "    max_precios = sorted(zip(valores, horas), reverse=True)[:2]  # Las dos horas más caras\n",
    "    return min_precios, max_precios\n"
   ]
  },
  {
   "cell_type": "markdown",
   "metadata": {},
   "source": [
    "En esta burbuja vamos a calcular el precio promedio(la media) de todo el dia que tenemos seleccionado y lo vamos a hacer haciendo la suma de todos los precios con (sum(valores)), despues vamos a dividir la suma entre el numero de precio (len(valores)) para obtener la media del dia."
   ]
  },
  {
   "cell_type": "code",
   "execution_count": 22,
   "metadata": {},
   "outputs": [],
   "source": [
    "def calcular_media_dia(valores):\n",
    "    return sum(valores) / len(valores) if valores else 0\n"
   ]
  },
  {
   "cell_type": "markdown",
   "metadata": {},
   "source": [
    "En esta Burbuja vamos a imprimir los resultados en la pantalla para ver los datos."
   ]
  },
  {
   "cell_type": "code",
   "execution_count": 23,
   "metadata": {},
   "outputs": [],
   "source": [
    "def imprimir_resultados(horas, valores, min_precios, max_precios, media_dia):\n",
    "    print(\"\\nPrecios por hora (€/MWh):\")\n",
    "    for hora, precio in zip(horas, valores):\n",
    "        print(f\"{hora} - {precio} €/MWh\")\n",
    "\n",
    "    print(\"\\nHoras más baratas:\")\n",
    "    for precio, hora in min_precios:\n",
    "        print(f\"{hora} - {precio} €/MWh\")\n",
    "\n",
    "    print(\"\\nHoras más caras:\")\n",
    "    for precio, hora in max_precios:\n",
    "        print(f\"{hora} - {precio} €/MWh\")\n",
    "\n",
    "    print(f\"\\nMedia del día: {media_dia:.2f} €/MWh\")\n"
   ]
  },
  {
   "cell_type": "markdown",
   "metadata": {},
   "source": [
    "En esta Burbuja vamos a monstrar la grafica de barras con los precio por hora del dia que tenemos seleccionado y lo vamos a hacer con con la libreria matplotlib para crear una grafica teniendo en el eje x las horas y en el eje y los precios correspondientes."
   ]
  },
  {
   "cell_type": "code",
   "execution_count": 24,
   "metadata": {},
   "outputs": [],
   "source": [
    "import matplotlib.pyplot as plt\n",
    "\n",
    "def generar_grafica(horas, valores, data):\n",
    "    plt.bar(horas, valores)\n",
    "    plt.title(f\"Precios por hora del {data}\")\n",
    "    plt.xlabel(\"Hora\")\n",
    "    plt.ylabel(\"Precio (€/MWh)\")\n",
    "    plt.xticks(rotation=45)\n",
    "    plt.tight_layout()\n",
    "    plt.show()\n"
   ]
  },
  {
   "cell_type": "markdown",
   "metadata": {},
   "source": [
    "En esta Burbuja vamos a unir todos los datos "
   ]
  },
  {
   "cell_type": "code",
   "execution_count": 25,
   "metadata": {},
   "outputs": [],
   "source": [
    "def obtener_prezos_dia(data):\n",
    "    datos = obtener_datos_api(data)\n",
    "    if not datos:\n",
    "        return\n",
    "\n",
    "    horas, valores = extraer_precios_y_horas(datos)\n",
    "    min_precios, max_precios = calcular_horas_extremas(horas, valores)\n",
    "    media_dia = calcular_media_dia(valores)\n",
    "\n",
    "    imprimir_resultados(horas, valores, min_precios, max_precios, media_dia)\n",
    "    generar_grafica(horas, valores, data)\n"
   ]
  },
  {
   "cell_type": "markdown",
   "metadata": {},
   "source": [
    "En esta Burbuja donde seleccionamos el dia que queremos calcular"
   ]
  },
  {
   "cell_type": "code",
   "execution_count": 26,
   "metadata": {},
   "outputs": [
    {
     "name": "stdout",
     "output_type": "stream",
     "text": [
      "\n",
      "Precios por hora (€/MWh):\n",
      "00:00 - 53.78 €/MWh\n",
      "01:00 - 53.49 €/MWh\n",
      "02:00 - 55.94 €/MWh\n",
      "03:00 - 54.77 €/MWh\n",
      "04:00 - 54.73 €/MWh\n",
      "05:00 - 54.48 €/MWh\n",
      "06:00 - 56.12 €/MWh\n",
      "07:00 - 59.91 €/MWh\n",
      "08:00 - 105.31 €/MWh\n",
      "09:00 - 96.5 €/MWh\n",
      "10:00 - 136.92 €/MWh\n",
      "11:00 - 135.58 €/MWh\n",
      "12:00 - 134.03 €/MWh\n",
      "13:00 - 131.51 €/MWh\n",
      "14:00 - 66.36 €/MWh\n",
      "15:00 - 66.43 €/MWh\n",
      "16:00 - 69.82 €/MWh\n",
      "17:00 - 82.4 €/MWh\n",
      "18:00 - 196.5 €/MWh\n",
      "19:00 - 219.39 €/MWh\n",
      "20:00 - 207.92 €/MWh\n",
      "21:00 - 194.39 €/MWh\n",
      "22:00 - 112.59 €/MWh\n",
      "23:00 - 101.63 €/MWh\n",
      "\n",
      "Horas más baratas:\n",
      "01:00 - 53.49 €/MWh\n",
      "00:00 - 53.78 €/MWh\n",
      "\n",
      "Horas más caras:\n",
      "19:00 - 219.39 €/MWh\n",
      "20:00 - 207.92 €/MWh\n",
      "\n",
      "Media del día: 104.19 €/MWh\n"
     ]
    },
    {
     "data": {
      "image/png": "[encoded data removed]",
      "text/plain": [
       "<Figure size 640x480 with 1 Axes>"
      ]
     },
     "metadata": {},
     "output_type": "display_data"
    }
   ],
   "source": [
    "obtener_prezos_dia(\"2025-01-28\")\n"
   ]
  }
 ],
 "metadata": {
  "kernelspec": {
   "display_name": "programacion",
   "language": "python",
   "name": "python3"
  },
  "language_info": {
   "codemirror_mode": {
    "name": "ipython",
    "version": 3
   },
   "file_extension": ".py",
   "mimetype": "text/x-python",
   "name": "python",
   "nbconvert_exporter": "python",
   "pygments_lexer": "ipython3",
   "version": "3.13.1"
  }
 },
 "nbformat": 4,
 "nbformat_minor": 2
}

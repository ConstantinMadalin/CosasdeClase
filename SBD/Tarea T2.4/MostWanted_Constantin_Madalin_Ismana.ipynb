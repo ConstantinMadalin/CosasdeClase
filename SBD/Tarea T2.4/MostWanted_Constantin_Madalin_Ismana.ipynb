{
 "cells": [
  {
   "cell_type": "markdown",
   "metadata": {},
   "source": [
    "<h1>Instalamos y Importamos las librerias<h1>"
   ]
  },
  {
   "cell_type": "code",
   "execution_count": null,
   "metadata": {},
   "outputs": [],
   "source": [
    "#Instalar gecko\n",
    "#from webdriver_manager.firefox import GeckoDriverManager\n",
    "#GeckoDriverManager().install()\n",
    "#!pip install requests lxml\n",
    "\n",
    "from selenium import webdriver\n",
    "from selenium.webdriver.common.by import By\n",
    "from selenium.webdriver.firefox.service import Service\n",
    "from selenium.webdriver.firefox.options import Options\n",
    "from selenium.webdriver.support import expected_conditions as EC\n",
    "from selenium.webdriver.support.wait import WebDriverWait\n",
    "from selenium.common.exceptions import NoSuchElementException\n",
    "import os\n",
    "import json\n",
    "import requests\n",
    "import base64\n"
   ]
  },
  {
   "cell_type": "markdown",
   "metadata": {},
   "source": [
    "<h1>Configuracion de las rutas<h1>"
   ]
  },
  {
   "cell_type": "code",
   "execution_count": null,
   "metadata": {},
   "outputs": [],
   "source": [
    "# Configuración de rutas\n",
    "GECKO_DRIVER_PATH = 'C:/Users/constantin.madalin.i/mis-binarios/geckodriver.exe'\n",
    "FIREFOX_BINARY_PATH = 'C:/Program Files/Mozilla Firefox/firefox.exe'\n",
    "SCREENSHOT_DIR = 'buscados'\n",
    "JSON_FILE = 'data.json'\n",
    "BASE_URL = \"https://eumostwanted.eu\""
   ]
  },
  {
   "cell_type": "markdown",
   "metadata": {},
   "source": [
    "<h1>Configuracion del Firefox<h1>"
   ]
  },
  {
   "cell_type": "code",
   "execution_count": null,
   "metadata": {},
   "outputs": [],
   "source": [
    "# Configurar Firefox\n",
    "options = Options()\n",
    "options.binary_location = FIREFOX_BINARY_PATH\n",
    "service = Service(executable_path=GECKO_DRIVER_PATH)\n",
    "driver = webdriver.Firefox(service=service, options=options)"
   ]
  },
  {
   "cell_type": "markdown",
   "metadata": {},
   "source": [
    "<h1>Definimos las variables<h1>"
   ]
  },
  {
   "cell_type": "code",
   "execution_count": null,
   "metadata": {},
   "outputs": [],
   "source": [
    "def wait_until(by, path, timeout=10):\n",
    "    WebDriverWait(driver, timeout).until(EC.presence_of_element_located((by, path)))\n",
    "\n",
    "def get_element_text(by, value):\n",
    "    try:\n",
    "        return driver.find_element(by, value).text\n",
    "    except NoSuchElementException:\n",
    "        return None\n",
    "\n",
    "def get_element_attribute(by, value, attribute):\n",
    "    try:\n",
    "        return driver.find_element(by, value).get_attribute(attribute)\n",
    "    except NoSuchElementException:\n",
    "        return None\n",
    "\n",
    "def get_image_base64(by, value, attribute):\n",
    "    try:\n",
    "        image_url = get_element_attribute(by, value, attribute)\n",
    "        if image_url:\n",
    "            response = requests.get(image_url)\n",
    "            return base64.b64encode(response.content).decode('utf-8')\n",
    "    except Exception:\n",
    "        return None\n",
    "\n",
    "def make_screenshot(index, name):\n",
    "    if not os.path.exists(SCREENSHOT_DIR):\n",
    "        os.makedirs(SCREENSHOT_DIR)\n",
    "    driver.save_screenshot(os.path.join(SCREENSHOT_DIR, f\"{index}_{name}.png\"))"
   ]
  },
  {
   "cell_type": "markdown",
   "metadata": {},
   "source": [
    "<h1>Definicion de los Xpaths<h1>"
   ]
  },
  {
   "cell_type": "code",
   "execution_count": null,
   "metadata": {},
   "outputs": [],
   "source": [
    "# Definición de XPaths\n",
    "class WantedFields:\n",
    "    fields = {\n",
    "        \"wantedItem\": \"[class^='wantedItem']\",\n",
    "        \"name\": \"//div[contains(@class, 'field--name-field-w-first-name')]/div[@class='field__item']\",\n",
    "        \"crime\": \"//div[contains(@class, 'field--name-field-crime')]/div[@class='field__items']/div[@class='field__item']\",\n",
    "        \"gender\": \"//div[contains(@class, 'field--name-field-gender')]/div[@class='field__item']\",\n",
    "        \"height\": \"//div[contains(@class, 'field--name-field-approximate-height')]/div[@class='field__item']\",\n",
    "        \"eyecolor\": \"//div[contains(@class, 'field--name-field-eye-colour')]/div[@class='field__item']\",\n",
    "        \"birthdate\": \"//div[contains(@class, 'field--name-field-date-of-birth')]/div[@class='field__item']\",\n",
    "        \"nationality\": \"//div[contains(@class, 'field--name-field-nationality')]/div[@class='field__items']/div[@class='field__item']\",\n",
    "        \"picture\": \"//div[contains(@class, 'field--name-field-picture')]//img[1]\",\n",
    "    }"
   ]
  },
  {
   "cell_type": "markdown",
   "metadata": {},
   "source": [
    "<h1>Entrar a la pagina y cerrar las cookies<h1>"
   ]
  },
  {
   "cell_type": "code",
   "execution_count": null,
   "metadata": {},
   "outputs": [],
   "source": [
    "# Navegación al sitio web\n",
    "driver.get(BASE_URL)\n",
    "wait_until(By.ID, 'sort_close')\n",
    "driver.find_element(By.ID, 'sort_close').click()"
   ]
  },
  {
   "cell_type": "markdown",
   "metadata": {},
   "source": [
    "<h1>Cogiendo los datos de la persona y hacer una captura a la pantalla<h1>"
   ]
  },
  {
   "cell_type": "code",
   "execution_count": null,
   "metadata": {},
   "outputs": [],
   "source": [
    "wanted = WantedFields()\n",
    "wanted_list = driver.find_element(By.CLASS_NAME, 'wanted_list')\n",
    "wanted_items = wanted_list.find_elements(By.CSS_SELECTOR, wanted.fields[\"wantedItem\"])\n",
    "params = [item.get_dom_attribute('href') for item in wanted_items if item.get_dom_attribute('href')]\n",
    "\n",
    "datafinal = {\"buscados\": []}\n",
    "\n",
    "for index, url_suspect in enumerate(params):\n",
    "    full_url = url_suspect if url_suspect.startswith(\"http\") else BASE_URL + url_suspect\n",
    "    driver.get(full_url)\n",
    "    wait_until(By.XPATH, wanted.fields[\"picture\"])\n",
    "\n",
    "    data = {\n",
    "        \"name\": get_element_text(By.XPATH, wanted.fields[\"name\"]),\n",
    "        \"crime\": get_element_text(By.XPATH, wanted.fields[\"crime\"]),\n",
    "        \"gender\": get_element_text(By.XPATH, wanted.fields[\"gender\"]),\n",
    "        \"height\": get_element_text(By.XPATH, wanted.fields[\"height\"]),\n",
    "        \"eyecolor\": get_element_text(By.XPATH, wanted.fields[\"eyecolor\"]),\n",
    "        \"birthdate\": get_element_text(By.XPATH, wanted.fields[\"birthdate\"]),\n",
    "        \"nationality\": get_element_text(By.XPATH, wanted.fields[\"nationality\"]),\n",
    "        \"picture\": get_image_base64(By.XPATH, wanted.fields[\"picture\"], 'src')\n",
    "    }\n",
    "    datafinal[\"buscados\"].append(data)\n",
    "    make_screenshot(index, data[\"name\"] if data[\"name\"] else \"unknown\")"
   ]
  },
  {
   "cell_type": "markdown",
   "metadata": {},
   "source": [
    "<h1>Guardamos en un Json la información<h1>"
   ]
  },
  {
   "cell_type": "code",
   "execution_count": null,
   "metadata": {},
   "outputs": [],
   "source": [
    "# Guardar en JSON\n",
    "with open(JSON_FILE, 'w', encoding='utf-8') as outfile:\n",
    "    json.dump(datafinal, outfile, ensure_ascii=False, indent=4)\n",
    "\n",
    "driver.quit()"
   ]
  }
 ],
 "metadata": {
  "language_info": {
   "name": "python"
  }
 },
 "nbformat": 4,
 "nbformat_minor": 2
}

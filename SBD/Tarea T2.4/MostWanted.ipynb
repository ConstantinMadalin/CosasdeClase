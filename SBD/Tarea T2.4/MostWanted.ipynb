{
 "cells": [
  {
   "cell_type": "code",
   "execution_count": 26,
   "metadata": {},
   "outputs": [],
   "source": [
    "from selenium import webdriver\n",
    "from selenium.webdriver.common.by import By\n",
    "import time\n",
    "import json\n",
    "import base64\n",
    "import requests\n",
    "\n",
    "# Configura el controlador de Firefox\n",
    "driver = webdriver.Firefox()\n",
    "\n",
    "# Abre la página web principal\n",
    "driver.get('https://eumostwanted.eu/')\n",
    "\n",
    "# Espera a que la página se cargue completamente\n",
    "time.sleep(10)\n",
    "\n",
    "# Acepta las cookies haciendo clic en el div con id 'sort_checkbox' y texto 'I agree'\n",
    "sort_checkbox_div = driver.find_element(By.CSS_SELECTOR, 'div#sort_checkbox')\n",
    "sort_checkbox_div.click()\n",
    "\n",
    "# Encuentra el div con la clase 'wanted_opened'\n",
    "wanted_opened_div = driver.find_element(By.CSS_SELECTOR, 'div.wanted_opened')\n",
    "\n",
    "# Extrae el contenido HTML del div\n",
    "wanted_opened_content = wanted_opened_div.get_attribute('outerHTML')\n",
    "\n",
    "# Encuentra la URL de la imagen dentro del div\n",
    "img_element = wanted_opened_div.find_element(By.CSS_SELECTOR, 'img')\n",
    "img_url = img_element.get_attribute('src')\n",
    "\n",
    "# Descarga la imagen y conviértela a base64\n",
    "response = requests.get(img_url)\n",
    "img_base64 = base64.b64encode(response.content).decode('utf-8')\n",
    "\n",
    "# Guarda el contenido HTML y la imagen en base64 en un archivo JSON\n",
    "data = {\n",
    "    'profile': {\n",
    "        'html_content': wanted_opened_content,\n",
    "        'image_base64': img_base64\n",
    "    }\n",
    "}\n",
    "with open('wanted_opened_content.json', 'w', encoding='utf-8') as file:\n",
    "    json.dump(data, file, ensure_ascii=False, indent=4)\n",
    "\n",
    "# Haz clic en el div con id 'homeWanted' y clase 'mobile' para volver atrás\n",
    "home_wanted_div = driver.find_element(By.CSS_SELECTOR, 'div#homeWanted.mobile')\n",
    "home_wanted_div.click()\n",
    "\n",
    "# Cierra el navegador\n",
    "driver.quit()"
   ]
  }
 ],
 "metadata": {
  "kernelspec": {
   "display_name": "programacion",
   "language": "python",
   "name": "python3"
  },
  "language_info": {
   "codemirror_mode": {
    "name": "ipython",
    "version": 3
   },
   "file_extension": ".py",
   "mimetype": "text/x-python",
   "name": "python",
   "nbconvert_exporter": "python",
   "pygments_lexer": "ipython3",
   "version": "3.13.1"
  }
 },
 "nbformat": 4,
 "nbformat_minor": 2
}

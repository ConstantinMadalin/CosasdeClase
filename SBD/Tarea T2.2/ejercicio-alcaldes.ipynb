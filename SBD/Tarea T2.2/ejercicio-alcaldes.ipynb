{
 "cells": [
  {
   "cell_type": "code",
   "execution_count": 1,
   "metadata": {},
   "outputs": [],
   "source": [
    "import pandas as pd\n",
    "import unicodedata\n",
    "import numpy as np\n",
    "import os"
   ]
  },
  {
   "cell_type": "code",
   "execution_count": null,
   "metadata": {},
   "outputs": [],
   "source": [
    "\n",
    "\n",
    "def leer_nombres_archivos():\n",
    "    \"\"\"Obtiene una lista de archivos en el directorio actual\"\"\"\n",
    "    archivos = [archivo for archivo in os.listdir(os.getcwd())]\n",
    "    return archivos\n",
    "\n",
    "def tratar_texto(texto):\n",
    "    \"\"\"Normaliza cadenas eliminando tildes y caracteres especiales\"\"\"\n",
    "    if isinstance(texto, str):\n",
    "        texto_normalizado = unicodedata.normalize('NFD', texto)\n",
    "        texto_sin_tildes = ''.join(c for c in texto_normalizado if unicodedata.category(c) != 'Mn')\n",
    "        return texto_sin_tildes    \n",
    "    else:\n",
    "        return texto  # Si no es texto, devuelve el valor original\n",
    "\n",
    "def diccionario_archivos_excel():\n",
    "    \"\"\"Crea un diccionario con los datos de los archivos Excel procesados\"\"\"\n",
    "    archivos_excel = {}\n",
    "    for archivo in leer_nombres_archivos():\n",
    "        # Solo procesar archivos con extensión .xlsx\n",
    "        if archivo.endswith(\".xlsx\"):\n",
    "            ruta_completa = os.path.join(os.getcwd(), archivo)\n",
    "            try:\n",
    "                # Cargar el archivo Excel\n",
    "                df = pd.read_excel(\n",
    "                    ruta_completa,\n",
    "                    skiprows=7,\n",
    "                    usecols=\"D:K\",\n",
    "                    engine=\"openpyxl\"\n",
    "                )\n",
    "                # Renombrar columnas específicas\n",
    "                df = df.rename(columns={\n",
    "                    \"COMUNIDAD AUTÓNOMA\": \"COMUNIDAD_AUTONOMA\",\n",
    "                    \"FECHA POSESIÓN\": \"FECHA_POSESION\",\n",
    "                    \"FECHA BAJA\": \"FECHA_BAJA\",\n",
    "                    \"CÓDIGO INE\": \"CODIGO_NIE\"\n",
    "                })\n",
    "                # Convertir fechas a formato datetime sin horas, minutos ni segundos\n",
    "                \n",
    "\n",
    "                # Aplicar tratamiento de texto a cada celda\n",
    "                df_sin_tildes = df.map(tratar_texto)\n",
    "                # Guardar el DataFrame en el diccionario\n",
    "                nombre_base = os.path.splitext(archivo)[0]\n",
    "                archivos_excel[nombre_base] = df_sin_tildes\n",
    "                print(f\"Datos del archivo {archivo} cargados con éxito.\")\n",
    "            except Exception as e:\n",
    "                print(f\"Error al procesar el archivo {archivo}: {e}\")\n",
    "    return archivos_excel\n",
    "\n",
    "\n",
    "\n",
    "# Procesar los archivos Excel\n",
    "archivos_excel = diccionario_archivos_excel()\n",
    "\n",
    "# Guardar los resultados en un único archivo Excel\n",
    "archivo_salida = \"excel_completo.xlsx\"\n",
    "with pd.ExcelWriter(archivo_salida, engine=\"openpyxl\") as writer:\n",
    "    for nombre_hoja, df in archivos_excel.items():\n",
    "        # Guardar cada DataFrame en una hoja separada\n",
    "        df.to_excel(writer, sheet_name=nombre_hoja, index=False)\n",
    "\n",
    "print(f\"Archivo combinado guardado como {archivo_salida}\")\n"
   ]
  },
  {
   "cell_type": "code",
   "execution_count": null,
   "metadata": {},
   "outputs": [],
   "source": [
    "ruta_archivo = \"excel_completo.xlsx\"\n",
    "hojas = pd.read_excel(ruta_archivo, sheet_name=None)\n",
    "    \n",
    "# Combinar datos de todas las hojas en un solo DataFrame\n",
    "df_legislaturas = pd.concat(hojas.values(), ignore_index=True)\n",
    "\n",
    "# Para tema de formateo de fechas para las tablas FECHA_POSESION y FECHA_BAJA\n",
    "df_legislaturas[\"FECHA_POSESION\"] = pd.to_datetime(df_legislaturas[\"FECHA_POSESION\"], errors=\"coerce\", dayfirst=True).dt.date\n",
    "df_legislaturas[\"FECHA_BAJA\"] = pd.to_datetime(df_legislaturas[\"FECHA_BAJA\"], errors=\"coerce\", dayfirst=True).dt.date\n",
    "\n",
    "# Contar cuántas veces aparece cada alcalde\n",
    "conteo_alcaldes = df_legislaturas.groupby(\"NOMBRE\").size()\n",
    "\n",
    "# Filtrar solo los alcaldes que aparecen más de una vez\n",
    "alcaldes_repetidos = conteo_alcaldes[conteo_alcaldes > 1].index\n",
    "\n",
    "# Filtrar el DataFrame original con estos alcaldes y se usará de base\n",
    "df_repetidos = df_legislaturas[df_legislaturas[\"NOMBRE\"].isin(alcaldes_repetidos)]\n",
    "\n",
    "# Agrupamos por nombre en una columna y egrContar cuántas veces ha sido elegido cada alcalde \n",
    "df_legislaturas_repetidos = df_repetidos.groupby([\"NOMBRE\",\"MUNICIPIO\"])[\"FECHA_POSESION\"].apply(list).reset_index()\n",
    "df_legislaturas_repetidos[\"REELEGIDO\"] = df_legislaturas_repetidos[\"FECHA_POSESION\"].apply(len)\n",
    "df_legislaturas_repetidos = df_legislaturas_repetidos[df_legislaturas_repetidos[\"REELEGIDO\"] > 1]\n",
    "\n",
    "df_legislaturas_repetidos.sort_values(by=\"REELEGIDO\",ascending=False)"
   ]
  },
  {
   "cell_type": "markdown",
   "metadata": {},
   "source": [
    "2.En esta burbuja vamos a saber lo siguiente:\n",
    "\n",
    "De repetir mandato. Qué partidos políticos tiveron máis éxito? Qué alcaldes mudaron de partido?"
   ]
  },
  {
   "cell_type": "code",
   "execution_count": null,
   "metadata": {},
   "outputs": [],
   "source": [
    "partidos_exitosos = df_repetidos.groupby(\"LISTA\")[\"NOMBRE\"].count().reset_index() \n",
    "partidos_exitosos.columns = [\"LISTA\", \"VECES_VOTADOS\"]\n",
    "\n",
    "partidos_exitosos = partidos_exitosos.sort_values(by=\"VECES_VOTADOS\", ascending=False)\n",
    "print(partidos_exitosos)\n",
    "\n",
    "alcaldes_cambiantes = df_repetidos.groupby(\"NOMBRE\")[\"LISTA\"].nunique().reset_index()\n",
    "alcaldes_cambiantes[\"REELEGIDO\"] = df_repetidos[\"LISTA\"]\n",
    "alcaldes_cambiantes.columns = [\"NOMBRE\", \"PARTIDOS_DISTINTOS\",\"REELEGIDO\"]\n",
    "\n",
    "alcaldes_cambiantes = alcaldes_cambiantes[alcaldes_cambiantes[\"PARTIDOS_DISTINTOS\"] > 1]\n",
    "alcaldes_cambiantes = alcaldes_cambiantes.sort_values(by=\"PARTIDOS_DISTINTOS\", ascending=False)\n",
    "print(alcaldes_cambiantes)"
   ]
  },
  {
   "cell_type": "markdown",
   "metadata": {},
   "source": [
    "3.En esta burbuja vamos a calular lo siguiente:\n",
    "\n",
    "Cantos alcaldes cesaron antes de tempo?"
   ]
  },
  {
   "cell_type": "code",
   "execution_count": null,
   "metadata": {},
   "outputs": [],
   "source": [
    "df_cesados = df_legislaturas[df_legislaturas[\"FECHA_BAJA\"].notna()]\n",
    "df_cesados_alcaldes_totales = df_cesados.groupby(\"FECHA_BAJA\")[\"NOMBRE\"].unique().count()\n",
    "\n",
    "\n",
    "print(f\"Número de alcaldes que se fueron antes de tiempo: {df_cesados_alcaldes_totales}\")"
   ]
  },
  {
   "cell_type": "markdown",
   "metadata": {},
   "source": [
    "4.En esta burbuja vamos a conseguir lo siguiente:\n",
    "\n",
    "Cal é o soldo máis alto e de que alcaldes?"
   ]
  },
  {
   "cell_type": "code",
   "execution_count": null,
   "metadata": {},
   "outputs": [],
   "source": [
    "\n",
    "ruta_archivo_alcaldes = \"Alcaldes_Mandato_2019_2023.xlsx\"\n",
    "ruta_archivo_retribuciones = \"tabula-retribuciones_alcaldes_2021.csv\"\n",
    "df_alcaldes = pd.read_excel(\n",
    "    ruta_archivo_alcaldes,\n",
    "    skiprows=7,\n",
    "    usecols=\"D:K\",\n",
    "    engine=\"openpyxl\"\n",
    ")\n",
    "df_alcaldes = df_alcaldes.rename(columns={\n",
    "    \"COMUNIDAD AUTÓNOMA\": \"COMUNIDAD_AUTONOMA\",\n",
    "    \"FECHA POSESIÓN\": \"FECHA_POSESION\",\n",
    "    \"FECHA BAJA\": \"FECHA_BAJA\",\n",
    "    \"CÓDIGO INE\": \"CODIGO_NIE\"\n",
    "})\n",
    "df_alcaldes = df_alcaldes.map(tratar_texto)\n",
    "df_retribuciones = pd.read_csv(ruta_archivo_retribuciones, skiprows=1)\n",
    "df_retribuciones = df_retribuciones.rename(columns={\"CCAA\": \"COMUNIDAD_AUTONOMA\",\n",
    "                                                    \"DEDICACIÓN\": \"REGIMEN_DEDICACION\",\n",
    "                                                    \"PERCIBIDO\": \"TOTAL_PERCIBIDO\",\n",
    "                                                    \"AYUNTAMIENTO\": \"MUNICIPIO\"\n",
    "                                                    }\n",
    "                                           )\n",
    "df_retribuciones = df_retribuciones.map(tratar_texto)\n",
    "df_retribuciones_alcaldes = pd.merge(df_alcaldes, df_retribuciones, on=\"MUNICIPIO\", how=\"inner\")\n",
    "\n",
    "df_retribuciones_alcaldes[\"TOTAL_PERCIBIDO\"] = df_retribuciones_alcaldes[\"TOTAL_PERCIBIDO\"].astype(str).str.replace(\".\",\"\").str.replace(\",\",\".\").astype(float)\n",
    "\n",
    "df_retribuciones_alcaldes = df_retribuciones_alcaldes[[\"TOTAL_PERCIBIDO\",\"NOMBRE\",\"MUNICIPIO\",\"COMUNIDAD_AUTONOMA_x\",\"LISTA\"]]\n",
    "df_retribuciones_alcaldes.sort_values(by=\"TOTAL_PERCIBIDO\", ascending=False).head(10)"
   ]
  },
  {
   "cell_type": "markdown",
   "metadata": {},
   "source": [
    "5.En esta burbuja vamos a conseguir lo siguiente:\n",
    "\n",
    "Relaciona os soldos altos e baixos coa \"probabilidade\" de repetir mandato.\n"
   ]
  },
  {
   "cell_type": "code",
   "execution_count": null,
   "metadata": {},
   "outputs": [],
   "source": [
    "df_final = df_legislaturas_repetidos.merge(df_retribuciones_alcaldes, on=\"NOMBRE\", how=\"inner\")\n",
    "df_final = df_final[df_final[\"TOTAL_PERCIBIDO\"] > 0.00]\n",
    "df_final.sort_values(by=\"TOTAL_PERCIBIDO\", ascending=False) "
   ]
  },
  {
   "cell_type": "code",
   "execution_count": null,
   "metadata": {},
   "outputs": [],
   "source": [
    "#BONUS\n",
    "df_cesados_agrupados = df_cesados.groupby(\"NOMBRE\").size().reset_index(name=\"COMUNIDAD_AUTONO\")\n",
    "\n",
    "df_cesados_agrupados = df_cesados_agrupados.sort_values(by=\"COMUNIDAD_AUTONO\", ascending=False)\n",
    "df_cesados_agrupados"
   ]
  }
 ],
 "metadata": {
  "kernelspec": {
   "display_name": "programacion",
   "language": "python",
   "name": "python3"
  },
  "language_info": {
   "codemirror_mode": {
    "name": "ipython",
    "version": 3
   },
   "file_extension": ".py",
   "mimetype": "text/x-python",
   "name": "python",
   "nbconvert_exporter": "python",
   "pygments_lexer": "ipython3",
   "version": "3.13.1"
  }
 },
 "nbformat": 4,
 "nbformat_minor": 2
}

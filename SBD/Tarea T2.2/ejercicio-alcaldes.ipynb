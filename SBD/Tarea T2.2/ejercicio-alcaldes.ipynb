{
 "cells": [
  {
   "cell_type": "code",
   "execution_count": 1,
   "metadata": {},
   "outputs": [],
   "source": [
    "\"\"\" %pip install pandas\n",
    "%conda install pandas\n",
    "%pip install unicodedata\n",
    "%conda install unicodedata\n",
    "%pip install os\n",
    "%conda install os\n",
    "%pip install openpyxl\n",
    "%conda install openpyxl\n",
    "%pip install numpy\n",
    "%conda install numpy \"\"\"\n",
    "\n",
    "import pandas as pd\n",
    "import unicodedata\n",
    "import numpy as np\n",
    "import os"
   ]
  },
  {
   "cell_type": "code",
   "execution_count": null,
   "metadata": {},
   "outputs": [],
   "source": [
    "\n",
    "\n",
    "def leer_nombres_archivos():\n",
    "    \"\"\"Obtiene una lista de archivos en el directorio actual\"\"\"\n",
    "    archivos = [archivo for archivo in os.listdir(os.getcwd())]\n",
    "    return archivos\n",
    "\n",
    "def tratar_texto(texto):\n",
    "    \"\"\"Normaliza cadenas eliminando tildes y caracteres especiales\"\"\"\n",
    "    if isinstance(texto, str):\n",
    "        texto_normalizado = unicodedata.normalize('NFD', texto)\n",
    "        texto_sin_tildes = ''.join(c for c in texto_normalizado if unicodedata.category(c) != 'Mn')\n",
    "        return texto_sin_tildes\n",
    "    elif isinstance(texto, pd.Timestamp):\n",
    "        return texto.strftime(\"%d-%m-%Y\")\n",
    "    else:\n",
    "        return texto  # Si no es texto, devuelve el valor original\n",
    "\n",
    "def diccionario_archivos_excel():\n",
    "    \"\"\"Crea un diccionario con los datos de los archivos Excel procesados\"\"\"\n",
    "    archivos_excel = {}\n",
    "    for archivo in leer_nombres_archivos():\n",
    "        # Solo procesar archivos con extensión .xlsx\n",
    "        if archivo.endswith(\".xlsx\"):\n",
    "            ruta_completa = os.path.join(os.getcwd(), archivo)\n",
    "            try:\n",
    "                # Cargar el archivo Excel\n",
    "                df = pd.read_excel(\n",
    "                    ruta_completa,\n",
    "                    skiprows=7,\n",
    "                    usecols=\"D:K\",\n",
    "                    engine=\"openpyxl\"\n",
    "                )\n",
    "                # Renombrar columnas específicas\n",
    "                df = df.rename(columns={\n",
    "                    \"COMUNIDAD AUTÓNOMA\": \"COMUNIDAD_AUTONOMA\",\n",
    "                    \"FECHA POSESIÓN\": \"FECHA_POSESION\",\n",
    "                    \"FECHA BAJA\": \"FECHA_BAJA\",\n",
    "                    \"CÓDIGO INE\": \"CODIGO_NIE\"\n",
    "                })\n",
    "                # Aplicar tratamiento de texto a cada celda\n",
    "                df_sin_tildes = df.map(tratar_texto)\n",
    "                # Guardar el DataFrame en el diccionario\n",
    "                nombre_base = os.path.splitext(archivo)[0]\n",
    "                archivos_excel[nombre_base] = df_sin_tildes\n",
    "                print(f\"Datos del archivo {archivo} cargados con éxito.\")\n",
    "            except Exception as e:\n",
    "                print(f\"Error al procesar el archivo {archivo}: {e}\")\n",
    "    return archivos_excel\n",
    "\n",
    "# Procesar los archivos Excel\n",
    "archivos_excel = diccionario_archivos_excel()\n",
    "\n",
    "# Guardar los resultados en un único archivo Excel\n",
    "archivo_salida = \"prueba.xlsx\"\n",
    "with pd.ExcelWriter(archivo_salida, engine=\"openpyxl\") as writer:\n",
    "    for nombre_hoja, df in archivos_excel.items():\n",
    "        # Guardar cada DataFrame en una hoja separada\n",
    "        df.to_excel(writer, sheet_name=nombre_hoja, index=False)\n",
    "\n",
    "print(f\"Archivo combinado guardado como {archivo_salida}\")\n"
   ]
  },
  {
   "cell_type": "code",
   "execution_count": 3,
   "metadata": {},
   "outputs": [],
   "source": [
    "ruta_archivo = \"prueba.xlsx\"\n",
    "hojas = pd.read_excel(ruta_archivo, sheet_name=None)\n",
    "    \n",
    "datos = pd.concat(hojas.values(), ignore_index=True)\n"
   ]
  },
  {
   "cell_type": "markdown",
   "metadata": {},
   "source": [
    "1.En esta Burbuja vamos a saber que alcalde repetio el mandanto y en que lexislaturas estuvo."
   ]
  },
  {
   "cell_type": "code",
   "execution_count": null,
   "metadata": {},
   "outputs": [],
   "source": [
    "df_repetidos = df.groupby([\"NOMBRE\"]).size().reset_index(name=\"Veces_Elegido\")\n",
    "df_repetidos =  df_repetidos[df_repetidos[\"Veces_Elegido\"] > 1].sort_values(\"Veces_Elegido\")\n",
    "print(df_repetidos)"
   ]
  },
  {
   "cell_type": "markdown",
   "metadata": {},
   "source": [
    "2.En esta burbuja vamos a sacar los partidos con mas exito, para eso vamos a combinar todas las hojas en un solo dataFrame para obtener todos los datos de todas las hojas que tenemos."
   ]
  },
  {
   "cell_type": "code",
   "execution_count": null,
   "metadata": {},
   "outputs": [],
   "source": [
    "ruta_archivo = \"prueba.xlsx\"\n",
    "hojas = pd.read_excel(ruta_archivo, sheet_name=None)\n",
    "    \n",
    "datos = pd.concat(hojas.values(), ignore_index=True)\n",
    "df_partidos_exitosos = df.groupby([\"LISTA\"]).size().reset_index(name=\"Veces_Totales\")\n",
    "df_partidos_exitosos = df_partidos_exitosos.sort_values(\"Veces_Totales\", ascending=False)\n",
    "print(df_partidos_exitosos.head(5))"
   ]
  },
  {
   "cell_type": "markdown",
   "metadata": {},
   "source": [
    "2.En esta burbuja vamos a comprobar los alcaldes que cambiaron de partido y tambien combinar todas las hojas en un solo DataFrame."
   ]
  },
  {
   "cell_type": "code",
   "execution_count": null,
   "metadata": {},
   "outputs": [],
   "source": [
    "ruta_archivo = \"prueba.xlsx\"\n",
    "hojas = pd.read_excel(ruta_archivo, sheet_name=None)\n",
    "datos = pd.concat(hojas.values(), ignore_index=True)\n",
    "\n",
    "df_alcaldes_veletas = df.groupby(\"NOMBRE\")[\"LISTA\"].nunique().reset_index(name=\"Veces_Totales\")\n",
    "df_alcaldes_veletas = df_alcaldes_veletas[df_alcaldes_veletas[\"Veces_Totales\"] > 1]\n",
    "print(df_alcaldes_veletas)"
   ]
  },
  {
   "cell_type": "markdown",
   "metadata": {},
   "source": [
    "3.En esta Burbuja vamos a calcular los alcades que cesaron antes de tiempo."
   ]
  },
  {
   "cell_type": "code",
   "execution_count": null,
   "metadata": {},
   "outputs": [],
   "source": [
    "ruta_archivo = \"prueba.xlsx\"\n",
    "hojas = pd.read_excel(ruta_archivo, sheet_name=None)\n",
    "datos = pd.concat(hojas.values(), ignore_index=True)\n",
    "\n",
    "df_alcaldes_caidos = datos[datos[\"FECHA_BAJA\"].notnull()] #datos.groupby(\"NOMBRE\").size().reset_index()\n",
    "df_alcaldes_caidos1 = df_alcaldes_caidos.groupby([\"NOMBRE\", \"LISTA\", \"PROVINCIA\", \"COMUNIDAD_AUTONOMA\"]).size()\n",
    "df_alcaldes_caidos2 = df_alcaldes_caidos.groupby([\"NOMBRE\", \"LISTA\"]).size().reset_index(name=\"Veces_Totales\")\n",
    "df_alcaldes_caidos2 = df_alcaldes_caidos2[df_alcaldes_caidos2[\"Veces_Totales\"] > 1]\n",
    "print(df_alcaldes_caidos2)"
   ]
  },
  {
   "cell_type": "markdown",
   "metadata": {},
   "source": [
    "4.En esta Burbuja vamos a calcular cual es el sueldo mas alto y el alcalde correspondiente."
   ]
  },
  {
   "cell_type": "code",
   "execution_count": null,
   "metadata": {},
   "outputs": [],
   "source": [
    "ruta_archivo_alcaldes = \"Alcaldes_Mandato_2019_2023.xlsx\"\n",
    "ruta_archivo_retribuciones = \"tabula-retribuciones_alcaldes_2021.csv\"\n",
    "df_alcaldes = pd.read_excel(\n",
    "    ruta_archivo_alcaldes,\n",
    "    skiprows=7,\n",
    "    usecols=\"D:K\",\n",
    "    engine=\"openpyxl\"\n",
    ")\n",
    "df_alcaldes = df_alcaldes.rename(columns={\n",
    "    \"COMUNIDAD AUTÓNOMA\": \"COMUNIDAD_AUTONOMA\",\n",
    "    \"FECHA POSESIÓN\": \"FECHA_POSESION\",\n",
    "    \"FECHA BAJA\": \"FECHA_BAJA\",\n",
    "    \"CÓDIGO INE\": \"CODIGO_NIE\"\n",
    "})\n",
    "df_alcaldes = df_alcaldes.map(tratar_texto)\n",
    "df_retribuciones = pd.read_csv(ruta_archivo_retribuciones, skiprows=1)\n",
    "df_retribuciones = df_retribuciones.rename(columns={\"CCAA\": \"COMUNIDAD_AUTONOMA\",\n",
    "                                                    \"DEDICACIÓN\": \"REGIMEN_DEDICACION\",\n",
    "                                                    \"PERCIBIDO\": \"TOTAL_PERCIBIDO\",\n",
    "                                                    \"AYUNTAMIENTO\": \"MUNICIPIO\"\n",
    "                                                    }\n",
    "                                           )\n",
    "df_retribuciones = df_retribuciones.map(tratar_texto)\n",
    "df_retribuciones_alcaldes = pd.merge(df_alcaldes, df_retribuciones, on=\"MUNICIPIO\", how=\"inner\")\n",
    "\n",
    "#Cómo vienen los números con separador de miles por \",\" pues hacemos los cambios necesarios\n",
    "#convertimos a str, reemplazamos y dejamos el tipo a float\n",
    "df_retribuciones_alcaldes[\"TOTAL_PERCIBIDO\"] = df_retribuciones_alcaldes[\"TOTAL_PERCIBIDO\"].astype(str).str.replace(\".\",\"\").str.replace(\",\",\".\").astype(float)\n",
    "\n",
    "#Se busca el índice de la tabla con el valor máximo para .loc[]alizar en el dataframe\n",
    "df_retribuciones_alcaldes.loc[df_retribuciones_alcaldes[\"TOTAL_PERCIBIDO\"].idxmax(),[\"NOMBRE\",\"TOTAL_PERCIBIDO\"]]\n"
   ]
  },
  {
   "cell_type": "markdown",
   "metadata": {},
   "source": [
    "5.En esta Burbuja vamos a relacionar los sueldos altos y bajos con la probalidad de repetir mandato."
   ]
  },
  {
   "cell_type": "code",
   "execution_count": null,
   "metadata": {},
   "outputs": [],
   "source": []
  }
 ],
 "metadata": {
  "kernelspec": {
   "display_name": "programacion",
   "language": "python",
   "name": "python3"
  },
  "language_info": {
   "codemirror_mode": {
    "name": "ipython",
    "version": 3
   },
   "file_extension": ".py",
   "mimetype": "text/x-python",
   "name": "python",
   "nbconvert_exporter": "python",
   "pygments_lexer": "ipython3",
   "version": "3.13.1"
  }
 },
 "nbformat": 4,
 "nbformat_minor": 2
}
